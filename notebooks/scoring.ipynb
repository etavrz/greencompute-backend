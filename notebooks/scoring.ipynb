{
 "cells": [
  {
   "cell_type": "markdown",
   "metadata": {},
   "source": [
    "# Scoring Different Prompting Techniques with DeepEval\n",
    "\n",
    "Three different prompting techniques are evaluated in this notebook:\n",
    "\n",
    "1. Base RAG Prompt \n",
    "2. Advanced RAG Prompt (role-based)\n",
    "3. Optimized RAG Prompt (based on DSPy)"
   ]
  },
  {
   "cell_type": "code",
   "execution_count": 6,
   "metadata": {},
   "outputs": [
    {
     "data": {
      "text/plain": [
       "True"
      ]
     },
     "execution_count": 6,
     "metadata": {},
     "output_type": "execute_result"
    }
   ],
   "source": [
    "import pandas as pd\n",
    "import deepeval\n",
    "import dspy\n",
    "import requests\n",
    "import json\n",
    "import boto3\n",
    "\n",
    "from dotenv import load_dotenv\n",
    "load_dotenv()"
   ]
  },
  {
   "cell_type": "markdown",
   "metadata": {},
   "source": [
    "## Base/Advanced RAG Prompt"
   ]
  },
  {
   "cell_type": "code",
   "execution_count": 25,
   "metadata": {},
   "outputs": [
    {
     "name": "stdout",
     "output_type": "stream",
     "text": [
      "Test set has 12 samples\n",
      "Test set keys: dict_keys(['question', 'response'])\n"
     ]
    }
   ],
   "source": [
    "# Load data\n",
    "with open(\"synthetics/testset.json\", \"r\") as f:\n",
    "\tdataset = json.load(f)\n",
    "print(f\"Test set has {len(dataset)} samples\")\n",
    "print(f\"Test set keys: {dataset[0].keys()}\")"
   ]
  },
  {
   "cell_type": "code",
   "execution_count": null,
   "metadata": {},
   "outputs": [],
   "source": [
    "# Setting constants for all the models\n",
    "TOP_N = 20\n",
    "MAX_TOKENS = 1024\n",
    "TOP_P = 0.7\n",
    "TEMPERATURE = 0.3"
   ]
  },
  {
   "cell_type": "code",
   "execution_count": null,
   "metadata": {},
   "outputs": [],
   "source": [
    "# Base Prompt\n",
    "from typing import Literal\n",
    "\n",
    "def rag_call(prompt: str, prompt_type: Literal[\"cite\", \"base\"]) -> str:\n",
    "    request_body = {\n",
    "        \"body\": prompt,\n",
    "        \"max_tokens\": 1024,\n",
    "\t\t\"prompt\": prompt_type,\n",
    "\t\t\"top_n\": TOP_N,\n",
    "\t\t\"top_p\": TOP_P,\n",
    "        \"temperature\": TEMPERATURE\n",
    "\t}\n",
    "    response = requests.post(\n",
    "        url=\"http://greencompute-1575332443.us-east-1.elb.amazonaws.com/api/llm/rag\",\n",
    "        json=request_body\n",
    "\t)\n",
    "    return response.json()[\"response\"]"
   ]
  },
  {
   "cell_type": "code",
   "execution_count": 28,
   "metadata": {},
   "outputs": [
    {
     "name": "stdout",
     "output_type": "stream",
     "text": [
      "Prompt Type: cite\n"
     ]
    },
    {
     "data": {
      "application/vnd.jupyter.widget-view+json": {
       "model_id": "ab4656b9bae84e14932947bc909c43bd",
       "version_major": 2,
       "version_minor": 0
      },
      "text/plain": [
       "  0%|          | 0/12 [00:00<?, ?it/s]"
      ]
     },
     "metadata": {},
     "output_type": "display_data"
    },
    {
     "name": "stdout",
     "output_type": "stream",
     "text": [
      "Prompt Type: base\n"
     ]
    },
    {
     "data": {
      "application/vnd.jupyter.widget-view+json": {
       "model_id": "240e45b4de294757a97f94d317e2c710",
       "version_major": 2,
       "version_minor": 0
      },
      "text/plain": [
       "  0%|          | 0/12 [00:00<?, ?it/s]"
      ]
     },
     "metadata": {},
     "output_type": "display_data"
    }
   ],
   "source": [
    "from tqdm.notebook import tqdm\n",
    "\n",
    "for prompt_type in [\"cite\", \"base\"]:\n",
    "\tprint(f\"Prompt Type: {prompt_type}\")\n",
    "\tfor record in tqdm(dataset):\n",
    "\t\tgenerated_text = rag_call(record[\"question\"], prompt_type)\n",
    "\t\trecord[f\"generated_{prompt_type}\"] = generated_text"
   ]
  },
  {
   "cell_type": "markdown",
   "metadata": {},
   "source": [
    "## Optimized RAG Prompt"
   ]
  },
  {
   "cell_type": "code",
   "execution_count": null,
   "metadata": {},
   "outputs": [],
   "source": [
    "def search(query: str, top_k: int) -> list[str]:\n",
    "    url = \"http://greencompute-1575332443.us-east-1.elb.amazonaws.com/api/llm/retrieval\"\n",
    "    headers = {\n",
    "        \"accept\": \"application/json\",\n",
    "        \"Content-Type\": \"application/json\"\n",
    "    }\n",
    "    data = {\n",
    "        \"query\": query,\n",
    "        \"top_k\": top_k\n",
    "    }\n",
    "\n",
    "    documents = requests.post(url, headers=headers, json=data).json()[\"documents\"]\n",
    "    return [f\"[{i}]\" + doc[\"doc_title\"] + doc[\"url\"] + \"\\n\\n\" + doc[\"content\"] for i, doc in enumerate(documents)]\n",
    "\n",
    "class TitanLM(dspy.LM):\n",
    "    def __init__(self, model: str, client, max_tokens: int = 1024, temperature: float = 0.3, top_p: float = 0.7, **kwargs):\n",
    "        self.client = client\n",
    "        self.history = []\n",
    "        self.temperature = temperature\n",
    "        self.max_tokens = max_tokens\n",
    "        self.top_p = top_p\n",
    "\n",
    "        super().__init__(model, **kwargs)\n",
    "        self.model = model\n",
    "    \n",
    "    def _format_message(self, prompt: str):\n",
    "        body = json.dumps(\n",
    "            {\n",
    "                \"inputText\": prompt,\n",
    "                \"textGenerationConfig\": {\n",
    "                    \"maxTokenCount\": self.max_tokens,\n",
    "                    \"stopSequences\": [],\n",
    "                    \"temperature\": self.temperature,\n",
    "                    \"topP\": self.top_p,\n",
    "                },\n",
    "            }\n",
    "        )\n",
    "        return body\n",
    "\n",
    "    def generate_content(self, prompt: str) -> str:\n",
    "        body = self._format_message(prompt)\n",
    "        response = self.client.invoke_model(\n",
    "            body=body,\n",
    "            modelId=self.model,\n",
    "            accept=\"application/json\",\n",
    "            contentType=\"application/json\",\n",
    "        )\n",
    "        response_body = json.loads(response.get(\"body\").read())\n",
    "        return response_body.get(\"results\")\n",
    "\n",
    "    def __call__(self, prompt=None, messages=None, **kwargs):\n",
    "        # Custom chat model working for text completion model\n",
    "        prompt = '\\n\\n'.join([x['content'] for x in messages] + ['BEGIN RESPONSE:'])\n",
    "\n",
    "        completions = self.generate_content(prompt)\n",
    "        self.history.append({\"prompt\": prompt, \"completions\": completions})\n",
    "\n",
    "        # Must return a list of strings\n",
    "        return [completions[0].get(\"outputText\")]\n",
    "\n",
    "    def inspect_history(self):\n",
    "        for interaction in self.history:\n",
    "            print(f\"Prompt: {interaction['prompt']} -> Completions: {interaction['completions']}\")"
   ]
  },
  {
   "cell_type": "code",
   "execution_count": 30,
   "metadata": {},
   "outputs": [],
   "source": [
    "class RAG(dspy.Module):\n",
    "    def __init__(self, num_docs=20):\n",
    "        self.num_docs = num_docs\n",
    "        self.respond = dspy.ChainOfThought('context, question -> response')\n",
    "\n",
    "    def forward(self, question):\n",
    "        context = search(question, top_k=self.num_docs)\n",
    "        return self.respond(context=context, question=question)"
   ]
  },
  {
   "cell_type": "code",
   "execution_count": 31,
   "metadata": {},
   "outputs": [],
   "source": [
    "# Load the optimized RAG model\n",
    "lm = TitanLM(\"amazon.titan-text-premier-v1:0\", client=boto3.client(\"bedrock-runtime\"))\n",
    "dspy.configure(lm=lm)\n",
    "rag = RAG()\n",
    "rag.load(\"output/optimized_rag_v2.json\")"
   ]
  },
  {
   "cell_type": "code",
   "execution_count": 32,
   "metadata": {},
   "outputs": [
    {
     "data": {
      "text/plain": [
       "Prediction(\n",
       "    reasoning='To answer the question, consider the following: By focusing cooling resources on individual racks, rack-level cooling systems can minimize energy waste and optimize cooling performance. This targeted approach leads to significant energy savings and reduced cooling costs.',\n",
       "    response='One way to increase data center efficiency is to use rack-level cooling systems.'\n",
       ")"
      ]
     },
     "execution_count": 32,
     "metadata": {},
     "output_type": "execute_result"
    }
   ],
   "source": [
    "rag(\"How can I increase my data center efficiency?\")"
   ]
  },
  {
   "cell_type": "code",
   "execution_count": null,
   "metadata": {},
   "outputs": [],
   "source": [
    "for record in dataset:\n",
    "\trecord[\"optimized_rag\"] = rag(record[\"question\"])"
   ]
  },
  {
   "cell_type": "code",
   "execution_count": 40,
   "metadata": {},
   "outputs": [],
   "source": [
    "for record in dataset:\n",
    "    record[\"optimized_rag\"] = record[\"optimized_rag\"].response"
   ]
  },
  {
   "cell_type": "code",
   "execution_count": 43,
   "metadata": {},
   "outputs": [],
   "source": [
    "# Save the results\n",
    "import pathlib\n",
    "\n",
    "pathlib.Path(\"output\").mkdir(parents=True, exist_ok=True)\n",
    "\n",
    "with open(\"output/results.json\", \"w\") as f:\n",
    "\tjson.dump(dataset, f)"
   ]
  },
  {
   "cell_type": "markdown",
   "metadata": {},
   "source": [
    "## Evaluation"
   ]
  },
  {
   "cell_type": "code",
   "execution_count": 3,
   "metadata": {},
   "outputs": [],
   "source": [
    "# Load the results from the saved file\n",
    "with open(\"output/results.json\", \"r\") as f:\n",
    "\tresults = json.load(f)"
   ]
  },
  {
   "cell_type": "code",
   "execution_count": 7,
   "metadata": {},
   "outputs": [],
   "source": [
    "from deepeval.metrics import GEval\n",
    "from deepeval.test_case import LLMTestCaseParams\n",
    "\n",
    "correctness_metric = GEval(\n",
    "    name=\"Correctness\",\n",
    "    criteria=\"Determine whether the actual output is factually correct based on the expected output.\",\n",
    "    # NOTE: you can only provide either criteria or evaluation_steps, and not both\n",
    "    evaluation_steps=[\n",
    "        \"Check whether the facts in 'actual output' contradicts any facts in 'expected output'\",\n",
    "        \"You should also heavily penalize omission of detail\",\n",
    "        \"Vague language, or contradicting OPINIONS, are OK\"\n",
    "    ],\n",
    "    evaluation_params=[LLMTestCaseParams.INPUT, LLMTestCaseParams.ACTUAL_OUTPUT],\n",
    ")"
   ]
  },
  {
   "cell_type": "code",
   "execution_count": 8,
   "metadata": {},
   "outputs": [
    {
     "data": {
      "application/vnd.jupyter.widget-view+json": {
       "model_id": "bd79488356064fcab482501d306d0deb",
       "version_major": 2,
       "version_minor": 0
      },
      "text/plain": [
       "Output()"
      ]
     },
     "metadata": {},
     "output_type": "display_data"
    },
    {
     "data": {
      "text/html": [
       "<pre style=\"white-space:pre;overflow-x:auto;line-height:normal;font-family:Menlo,'DejaVu Sans Mono',consolas,'Courier New',monospace\">Event loop is already running. Applying nest_asyncio patch to allow async execution...\n",
       "</pre>\n"
      ],
      "text/plain": [
       "Event loop is already running. Applying nest_asyncio patch to allow async execution...\n"
      ]
     },
     "metadata": {},
     "output_type": "display_data"
    },
    {
     "data": {
      "text/html": [
       "<pre style=\"white-space:pre;overflow-x:auto;line-height:normal;font-family:Menlo,'DejaVu Sans Mono',consolas,'Courier New',monospace\"></pre>\n"
      ],
      "text/plain": []
     },
     "metadata": {},
     "output_type": "display_data"
    },
    {
     "name": "stdout",
     "output_type": "stream",
     "text": [
      "0.2322884834150058\n",
      "The actual output is vague and does not clearly identify the cat as the one who ran up the tree, omitting a crucial detail from the input.\n"
     ]
    }
   ],
   "source": [
    "from deepeval.test_case import LLMTestCase\n",
    "\n",
    "test_case = LLMTestCase(\n",
    "    input=\"The dog chased the cat up the tree, who ran up the tree?\",\n",
    "    actual_output=\"It depends, some might consider the cat, while others might argue the dog.\",\n",
    "    expected_output=\"The cat.\"\n",
    ")\n",
    "\n",
    "correctness_metric.measure(test_case)\n",
    "print(correctness_metric.score)\n",
    "print(correctness_metric.reason)"
   ]
  },
  {
   "cell_type": "code",
   "execution_count": 9,
   "metadata": {},
   "outputs": [],
   "source": [
    "from deepeval.dataset import EvaluationDataset\n",
    "\n",
    "dataset = EvaluationDataset()\n",
    "\n",
    "# Add as test cases\n",
    "dataset.add_test_cases_from_json_file(\n",
    "    # file_path is the absolute path to you .json file\n",
    "    file_path=\"output/results.json\",\n",
    "    input_key_name=\"question\",\n",
    "    actual_output_key_name=\"generated_cite\",\n",
    "    expected_output_key_name=\"response\",\n",
    ")"
   ]
  },
  {
   "cell_type": "code",
   "execution_count": 12,
   "metadata": {},
   "outputs": [],
   "source": [
    "correctness_metric = GEval(\n",
    "    name=\"Correctness\",\n",
    "    criteria=\"Determine whether the actual output is factually correct based on the expected output.\",\n",
    "    evaluation_params=[LLMTestCaseParams.INPUT, LLMTestCaseParams.ACTUAL_OUTPUT],\n",
    ")"
   ]
  },
  {
   "cell_type": "code",
   "execution_count": 13,
   "metadata": {},
   "outputs": [
    {
     "data": {
      "text/html": [
       "<pre style=\"white-space:pre;overflow-x:auto;line-height:normal;font-family:Menlo,'DejaVu Sans Mono',consolas,'Courier New',monospace\">✨ You're running DeepEval's latest <span style=\"color: #6a00ff; text-decoration-color: #6a00ff\">Correctness </span><span style=\"color: #6a00ff; text-decoration-color: #6a00ff; font-weight: bold\">(</span><span style=\"color: #6a00ff; text-decoration-color: #6a00ff\">GEval</span><span style=\"color: #6a00ff; text-decoration-color: #6a00ff; font-weight: bold\">)</span><span style=\"color: #6a00ff; text-decoration-color: #6a00ff\"> Metric</span>! <span style=\"color: #374151; text-decoration-color: #374151; font-weight: bold\">(</span><span style=\"color: #374151; text-decoration-color: #374151\">using gpt-4o, </span><span style=\"color: #374151; text-decoration-color: #374151\">strict</span><span style=\"color: #374151; text-decoration-color: #374151\">=</span><span style=\"color: #374151; text-decoration-color: #374151; font-style: italic\">False</span><span style=\"color: #374151; text-decoration-color: #374151\">, </span><span style=\"color: #374151; text-decoration-color: #374151\">async_mode</span><span style=\"color: #374151; text-decoration-color: #374151\">=</span><span style=\"color: #374151; text-decoration-color: #374151; font-style: italic\">True</span><span style=\"color: #374151; text-decoration-color: #374151; font-weight: bold\">)</span><span style=\"color: #374151; text-decoration-color: #374151\">...</span>\n",
       "</pre>\n"
      ],
      "text/plain": [
       "✨ You're running DeepEval's latest \u001b[38;2;106;0;255mCorrectness \u001b[0m\u001b[1;38;2;106;0;255m(\u001b[0m\u001b[38;2;106;0;255mGEval\u001b[0m\u001b[1;38;2;106;0;255m)\u001b[0m\u001b[38;2;106;0;255m Metric\u001b[0m! \u001b[1;38;2;55;65;81m(\u001b[0m\u001b[38;2;55;65;81musing gpt-4o, \u001b[0m\u001b[38;2;55;65;81mstrict\u001b[0m\u001b[38;2;55;65;81m=\u001b[0m\u001b[3;38;2;55;65;81mFalse\u001b[0m\u001b[38;2;55;65;81m, \u001b[0m\u001b[38;2;55;65;81masync_mode\u001b[0m\u001b[38;2;55;65;81m=\u001b[0m\u001b[3;38;2;55;65;81mTrue\u001b[0m\u001b[1;38;2;55;65;81m)\u001b[0m\u001b[38;2;55;65;81m...\u001b[0m\n"
      ]
     },
     "metadata": {},
     "output_type": "display_data"
    },
    {
     "name": "stdout",
     "output_type": "stream",
     "text": [
      "Event loop is already running. Applying nest_asyncio patch to allow async execution...\n"
     ]
    },
    {
     "name": "stderr",
     "output_type": "stream",
     "text": [
      "Evaluating 12 test case(s) in parallel: |██████████|100% (12/12) [Time Taken: 00:10,  1.14test case/s]"
     ]
    },
    {
     "name": "stdout",
     "output_type": "stream",
     "text": [
      "\n",
      "======================================================================\n",
      "\n",
      "Metrics Summary\n",
      "\n",
      "  - ✅ Correctness (GEval) (score: 0.7775845021643252, threshold: 0.5, strict: False, evaluation model: gpt-4o, reason: The actual output accurately describes methods such as closed-loop chilled water, evaporative, and DX cooling systems, aligning with the question's focus on enhancing energy efficiency. It also accurately mentions advantages like improved temperature control, reduced energy consumption, and increased reliability. However, it assumes a data center context not specified in the input, which slightly affects relevance., error: None)\n",
      "\n",
      "For test case:\n",
      "\n",
      "  - input: What methods and advantages arise from installing dedicated cooling systems to enhance energy efficiency?\n",
      "  - actual output: There are several methods and advantages to installing dedicated cooling systems to enhance energy efficiency in a data center. One method is to use a closed-loop chilled water system, which can provide high efficiency and flexibility in cooling distribution. Another method is to use an evaporative cooling system, which can provide high efficiency and low operating costs in certain climates. A third method is to use a direct expansion (DX) cooling system, which can provide high efficiency and reliability in a wide range of climates. The advantages of using dedicated cooling systems include improved temperature and humidity control, reduced energy consumption, and increased reliability and availability.\n",
      "  - expected output: Installing dedicated cooling systems for server rooms offers several advantages for enhancing energy efficiency:\n",
      "\n",
      "1. **Reduced Energy Consumption**: By using cooling equipment specifically for the server room, the overall building cooling system does not need to operate continuously, leading to significant energy savings.\n",
      "\n",
      "2. **High-Efficiency Equipment**: Dedicated systems, such as packaged air conditioning units with high SEER ratings and outside-air economizers, are designed to optimize cooling efficiency specifically for the requirements of server rooms.\n",
      "\n",
      "3. **Effective Heat Management**: Implementing systems like exhaust fans and air-side economizers can effectively manage heat removal and improve airflow, reducing reliance on compressors and further saving energy.\n",
      "\n",
      "4. **Focused Training for Staff**: Equipping IT and facility staff with ongoing training in energy management and efficiency practices ensures that the cooling systems are used and maintained effectively, maximizing their energy-saving potential.\n",
      "\n",
      "Overall, dedicated cooling systems tailored for server environments can lead to substantial energy efficiency improvements.\n",
      "  - context: None\n",
      "  - retrieval context: None\n",
      "\n",
      "======================================================================\n",
      "\n",
      "Metrics Summary\n",
      "\n",
      "  - ✅ Correctness (GEval) (score: 0.9985936377296761, threshold: 0.5, strict: False, evaluation model: gpt-4o, reason: The actual output matches the expected output by identifying both air-side and water-side economizers, correctly explaining their roles in enhancing energy efficiency through air management and temperature control., error: None)\n",
      "\n",
      "For test case:\n",
      "\n",
      "  - input: What types of economizers enhance energy efficiency in data centers through air management and temperature control?\n",
      "  - actual output: There are two types of economizers that enhance energy efficiency in data centers through air management and temperature control:\n",
      "1. Air-side economizers use outside air to cool the data center when the ambient temperature is low enough, reducing the need for mechanical cooling.\n",
      "2. Water-side economizers use chilled water from a cooling tower or other source to cool the data center when the ambient temperature is low enough, reducing the need for mechanical cooling.\n",
      "  - expected output: Economizers that enhance energy efficiency in data centers include air-to-air heat exchangers and \"tower side\" economizers, which utilize water cooled by cooling towers. Additionally, pumped refrigerant economizers can be employed, allowing the compressor to be off while the pump circulates refrigerant for cooling. These systems optimize air management and temperature control, increasing the number of economizer hours and improving overall efficiency.\n",
      "  - context: None\n",
      "  - retrieval context: None\n",
      "\n",
      "======================================================================\n",
      "\n",
      "Metrics Summary\n",
      "\n",
      "  - ✅ Correctness (GEval) (score: 0.9966914019211949, threshold: 0.5, strict: False, evaluation model: gpt-4o, reason: The actual output accurately includes all key elements: dedicated cooling systems for targeted cooling, training for energy-efficient practices, and economizers using outside air, all contributing to energy efficiency in data centers. No discrepancies or additional incorrect information are present., error: None)\n",
      "\n",
      "For test case:\n",
      "\n",
      "  - input: Identify how dedicated cooling systems, training, and economizers can collectively enhance energy efficiency in data centers.\n",
      "  - actual output: Dedicated cooling systems can enhance energy efficiency in data centers by providing targeted cooling to specific areas, reducing the overall cooling load. Training staff on energy-efficient practices, such as proper server management and airflow optimization, can further improve energy efficiency. Economizers can also play a significant role by using outside air for cooling, reducing the need for mechanical cooling systems and saving energy. By combining these strategies, data centers can achieve significant energy savings and reduce their environmental impact.\n",
      "  - expected output: Dedicated cooling systems, such as packaged air conditioning units for server rooms, can operate independently of the building's main cooling system, leading to significant energy savings by reducing unnecessary compressor use. Training IT and facilities staff on energy efficiency best practices, including participation in programs like the Data Center Energy Practitioner (DCEP) training, ensures that staff are equipped to implement and maintain these systems effectively. Additionally, incorporating air-side economizers allows for the use of outside air to cool the data center, further minimizing energy consumption by reducing reliance on mechanical cooling. Together, these strategies create a comprehensive approach to enhancing energy efficiency in data centers.\n",
      "  - context: None\n",
      "  - retrieval context: None\n",
      "\n",
      "======================================================================\n",
      "\n",
      "Metrics Summary\n",
      "\n",
      "  - ✅ Correctness (GEval) (score: 0.9332745502718958, threshold: 0.5, strict: False, evaluation model: gpt-4o, reason: The actual output accurately describes how variable-speed drives contribute to energy savings through airflow optimization and power reduction. It mentions adjusting fan speed to cooling needs, reducing power consumption, and minimizing energy waste. However, it slightly extends the scope by discussing the impact on a data center environment, which is not explicitly required., error: None)\n",
      "\n",
      "For test case:\n",
      "\n",
      "  - input: Discuss how variable-speed drives on cooling fans contribute to energy savings through airflow optimization and power reduction.\n",
      "  - actual output: Variable-speed drives (VSDs) on cooling fans enable airflow optimization by adjusting fan speed according to the cooling needs of the data center. This results in reduced power consumption and energy savings. VSDs also improve the efficiency of the cooling system by minimizing energy waste, leading to lower operational costs and a smaller carbon footprint. By maintaining optimal airflow and temperature, VSDs contribute to a more stable and reliable data center environment.\n",
      "  - expected output: Variable-speed drives (VSDs) on cooling fans optimize airflow by adjusting the fan speed to match the actual cooling needs of IT equipment. This adaptability reduces unnecessary airflow, which is often more than required, resulting in significant energy savings. Specifically, a 20% reduction in airflow can lead to approximately 50% savings in fan power, as fan power consumption scales with the cube of the flow. To maximize these savings, it is beneficial to implement airflow management measures alongside VSD installation, further enhancing efficiency in cooling systems.\n",
      "  - context: None\n",
      "  - retrieval context: None\n",
      "\n",
      "======================================================================\n",
      "\n",
      "Metrics Summary\n",
      "\n",
      "  - ✅ Correctness (GEval) (score: 0.9754915001669096, threshold: 0.5, strict: False, evaluation model: gpt-4o, reason: The actual output provides effective multi-step strategies for enhancing air quality and filtration systems in data centers, including maintenance, HEPA filters, humidity control, air purifiers, and monitoring. These steps are factually accurate and align closely with the expected strategies, with no significant discrepancies noted., error: None)\n",
      "\n",
      "For test case:\n",
      "\n",
      "  - input: What multi-step strategies can data centers employ to enhance air quality and filtration systems effectively?\n",
      "  - actual output: Here are some strategies that data centers can employ to enhance air quality and filtration systems:\n",
      "1. Implement a comprehensive cleaning and maintenance program for the air handling units, filters, and ductwork.\n",
      "2. Use high-efficiency particulate air (HEPA) filters to remove airborne particles and contaminants.\n",
      "3. Implement a humidity control system to prevent the growth of mold and other microorganisms.\n",
      "4. Use air purifiers with activated carbon filters to remove odors and volatile organic compounds (VOCs).\n",
      "5. Regularly monitor air quality using air quality sensors and take corrective action as needed.\n",
      "  - expected output: Data centers can enhance air quality and filtration systems through the following multi-step strategies:\n",
      "\n",
      "1. **Conduct Air Quality Tests**: Perform on-site air quality tests prior to construction to identify gaseous contaminants, which may necessitate reconsidering the data center's location.\n",
      "\n",
      "2. **Implement Enhanced Filtration**: If contaminants are present or outdoor air is not used for cooling, enhanced filtration systems should be installed to mitigate particulate contamination.\n",
      "\n",
      "3. **Optimize Air Management**: Utilize improved air management techniques to allow for higher return air temperatures, which can significantly increase economizer hours.\n",
      "\n",
      "4. **Follow ASHRAE Guidelines**: Operate data centers at higher ASHRAE-recommended supply air temperatures to maximize efficiency and economizer operation.\n",
      "\n",
      "5. **Evaluate Chilled-Water Temperatures**: Assess optimum chilled-water temperatures for Computer Room Air Handler (CRAH) units and chillers to achieve high efficiency without compromising air inlet temperatures.\n",
      "\n",
      "6. **Consider Economizer Options**: Opt for economizers that do not introduce outside air, such as air-to-air heat exchangers or pumped refrigerant economizers, to enhance cooling effectiveness while maintaining air quality.\n",
      "\n",
      "By implementing these strategies, data centers can effectively improve air quality and filtration while maximizing operational efficiency.\n",
      "  - context: None\n",
      "  - retrieval context: None\n",
      "\n",
      "======================================================================\n",
      "\n",
      "Metrics Summary\n",
      "\n",
      "  - ✅ Correctness (GEval) (score: 0.8497078542128149, threshold: 0.5, strict: False, evaluation model: gpt-4o, reason: The output identifies factors like limited space for cooling and high power density, aligning with the input. However, it includes additional solutions and monitoring strategies not explicitly requested in the input., error: None)\n",
      "\n",
      "For test case:\n",
      "\n",
      "  - input: Examine the underlying factors contributing to suboptimal energy designs in compact server facilities.\n",
      "  - actual output: Compact server facilities often struggle with energy efficiency due to factors like limited space for efficient cooling systems, high power density leading to increased heat generation, and insufficient monitoring and management of energy usage. To address these challenges, consider implementing measures such as using energy-efficient IT equipment, optimizing cooling systems, and implementing energy management systems. Additionally, regular maintenance and monitoring of energy usage can help identify areas for improvement and ensure that energy-saving measures are effective.\n",
      "  - expected output: The suboptimal energy designs in compact server facilities can be attributed to several underlying factors:\n",
      "\n",
      "1. **Inadequate Initial Design**: Many small server rooms were not originally designed for server operations, resulting in inefficient room configurations and cooling schemes.\n",
      "\n",
      "2. **Principal-Agent Problem**: Server owners/operators often do not pay utility bills directly, leading to a lack of feedback on energy costs and minimal motivation to pursue energy efficiency improvements.\n",
      "\n",
      "3. **Business Prioritization**: Operational needs often take precedence over energy efficiency, especially in environments where servers support critical internal functions rather than profit-driven services.\n",
      "\n",
      "4. **IT Equipment Issues**: Limited budgets and the absence of regular equipment updates lead to older, less efficient hardware. Additionally, low utilization rates suggest that server consolidation and virtualization could significantly enhance energy efficiency.\n",
      "\n",
      "5. **Comparison with Centralized Data Centers**: Centralized data centers achieve greater energy efficiency, highlighting the potential benefits for small server room owners if they consider migrating to these larger facilities.\n",
      "\n",
      "Addressing these factors is essential for improving energy efficiency in small server rooms.\n",
      "  - context: None\n",
      "  - retrieval context: None\n",
      "\n",
      "======================================================================\n",
      "\n",
      "Metrics Summary\n",
      "\n",
      "  - ✅ Correctness (GEval) (score: 0.8538188035669162, threshold: 0.5, strict: False, evaluation model: gpt-4o, reason: The actual output effectively addresses key aspects of enhancing energy efficiency and minimizing waste in smaller data centers, such as optimizing cooling systems, using energy-efficient UPS systems, selecting efficient IT equipment, implementing monitoring systems, and updating policies. However, it lacks mention of potential renewable energy integration or waste heat utilization, which could be critical in some expected outputs., error: None)\n",
      "\n",
      "For test case:\n",
      "\n",
      "  - input: What multifaceted approaches can enhance energy efficiency and minimize waste in smaller data centers?\n",
      "  - actual output: 1. Optimize cooling systems by adjusting supply air temperature control and eliminating unnecessary components like flow control valves.\n",
      "2. Utilize energy-efficient UPS systems, such as double conversion or line-interactive topologies, to improve power quality and reduce energy consumption.\n",
      "3. Select energy-efficient IT equipment, like servers and storage devices, to lower energy consumption and operating costs.\n",
      "4. Implement monitoring and metering systems to track energy usage and identify areas for improvement.\n",
      "5. Regularly review and update energy management policies and procedures to ensure ongoing efficiency and waste reduction.\n",
      "  - expected output: To enhance energy efficiency and minimize waste in smaller data centers, consider the following multifaceted approaches:\n",
      "\n",
      "1. **Adopt Best Practices**: Utilize guidelines from the \"Best Practices Guide for Energy-Efficient Data Center Design\" which covers IT systems, cooling, air management, and heat recovery.\n",
      "\n",
      "2. **Implement ASHRAE Standards**: Follow ASHRAE 90.4-2016 for energy efficiency benchmarks specifically tailored for data centers.\n",
      "\n",
      "3. **Optimize Cooling Systems**: Focus on efficient cooling solutions that reduce energy consumption while maintaining optimal environmental conditions for IT equipment.\n",
      "\n",
      "4. **Utilize On-Site Generation**: Explore on-site energy generation options to decrease reliance on external power sources and improve overall efficiency.\n",
      "\n",
      "5. **Energy Monitoring and Management**: Regularly monitor energy usage and implement management strategies to identify and rectify inefficiencies.\n",
      "\n",
      "6. **Consider Lifecycle Costs**: Evaluate life cycle costs versus initial costs to make informed decisions that prioritize long-term energy savings.\n",
      "\n",
      "7. **Leverage Energy Star Resources**: Utilize tools and resources from the Energy Star program to improve energy performance in smaller data centers.\n",
      "\n",
      "By integrating these strategies, smaller data centers can significantly boost energy efficiency and reduce waste.\n",
      "  - context: None\n",
      "  - retrieval context: None\n",
      "\n",
      "======================================================================\n",
      "\n",
      "Metrics Summary\n",
      "\n",
      "  - ✅ Correctness (GEval) (score: 0.9212285250234775, threshold: 0.5, strict: False, evaluation model: gpt-4o, reason: The actual output effectively addresses strategies for both inventory tracking and energy efficiency, mentioning automated inventory systems, energy audits, and energy-efficient practices, which align with the input question. However, the output could be more explicit in directly linking each strategy to both inventory tracking and energy efficiency, as some strategies focus more heavily on one aspect., error: None)\n",
      "\n",
      "For test case:\n",
      "\n",
      "  - input: What multi-faceted strategies can data center operators employ to enhance inventory tracking and energy efficiency?\n",
      "  - actual output: Data center operators can employ several strategies to enhance inventory tracking and energy efficiency. These include:\n",
      "\n",
      "1. Implementing an automated inventory tracking system that uses RFID or barcode technology to monitor equipment and resources.\n",
      "2. Regularly auditing and maintaining equipment to ensure optimal performance and energy efficiency.\n",
      "3. Conducting energy audits to identify areas of energy waste and inefficiency.\n",
      "4. Implementing energy-efficient practices, such as using energy-efficient equipment, optimizing cooling systems, and implementing power management strategies.\n",
      "5. Training staff on energy-efficient practices and encouraging them to report any energy-saving opportunities they identify.\n",
      "6. Continuously monitoring and analyzing energy usage data to identify trends and areas for improvement.\n",
      "7. Setting energy-saving goals and targets, and regularly reviewing progress towards these goals.\n",
      "  - expected output: Data center operators can enhance inventory tracking and energy efficiency through several multi-faceted strategies:\n",
      "\n",
      "1. **Implement Comprehensive Inventory Management Systems**: Utilize user-friendly platforms to maintain detailed records of equipment make, model, and specifications to streamline access to inventory data.\n",
      "\n",
      "2. **Track Server Utilization**: Invest in cost-effective monitoring tools that provide real-time data on server utilization rates, enabling informed decisions for energy efficiency improvements.\n",
      "\n",
      "3. **Optimize Power Measurement Practices**: Separate metering for different end uses can help identify specific power consumption and losses, allowing for targeted improvements in energy efficiency.\n",
      "\n",
      "4. **Adopt Virtualization and Consolidation**: Implement virtualization and consolidation strategies to reduce the number of physical servers needed, thus lowering overall power consumption.\n",
      "\n",
      "5. **Regularly Review Organizational Policies**: Establish and maintain guidelines for server room operations, including protocols for new server installations and energy consumption practices.\n",
      "\n",
      "6. **Enhance Cooling Systems**: Evaluate and upgrade cooling systems to improve efficiency, ensuring they align with the current operational needs and configurations of the server space.\n",
      "\n",
      "7. **Conduct In-Depth Assessments**: Regular assessments of server room practices and infrastructure can reveal opportunities for further energy savings and operational improvements.\n",
      "\n",
      "By employing these strategies, data center operators can effectively track inventory and enhance energy efficiency in their operations.\n",
      "  - context: None\n",
      "  - retrieval context: None\n",
      "\n",
      "======================================================================\n",
      "\n",
      "Metrics Summary\n",
      "\n",
      "  - ✅ Correctness (GEval) (score: 0.9423169657949357, threshold: 0.5, strict: False, evaluation model: gpt-4o, reason: The actual output provides a comprehensive list of simple and cost-effective energy-saving measures for small data centers, aligning with the expected query. All suggestions are factually accurate and relevant to the context of small data centers, with no discrepancies or errors identified., error: None)\n",
      "\n",
      "For test case:\n",
      "\n",
      "  - input: What simple and cost-effective energy-saving measures can small data centers implement effectively?\n",
      "  - actual output: Here are some simple and cost-effective energy-saving measures that small data centers can implement effectively:\n",
      "1. Optimize cooling systems: Small data centers can optimize their cooling systems by ensuring proper air flow, using energy-efficient fans, and maintaining appropriate temperature and humidity levels.\n",
      "2. Implement power management: Power management techniques, such as powering down idle equipment and using energy-efficient power supplies, can help reduce energy consumption.\n",
      "3. Upgrade to energy-efficient equipment: Replacing old and inefficient equipment with energy-efficient models can lead to significant energy savings.\n",
      "4. Monitor and analyze energy usage: Regularly monitoring and analyzing energy usage can help identify areas for improvement and track the effectiveness of energy-saving measures.\n",
      "5. Implement energy-saving policies: Establishing energy-saving policies, such as turning off equipment during off-peak hours or setting temperature limits, can help reduce energy consumption.\n",
      "  - expected output: Small data centers can implement several simple and cost-effective energy-saving measures, including:\n",
      "\n",
      "1. **Turning off unused equipment**: Identify and shut down servers or devices that are not in use to reduce energy consumption.\n",
      "2. **Optimizing airflow**: Ensure proper airflow management by organizing cables and equipment to minimize obstructions.\n",
      "3. **Adjusting temperature settings**: Set the intake air temperature to a prudent level to maximize cooling efficiency without compromising equipment reliability.\n",
      "4. **Regular maintenance**: Perform routine checks and maintenance on cooling systems to ensure they operate efficiently.\n",
      "\n",
      "Implementing these measures can lead to energy savings of 20 to 40% without negatively impacting IT equipment reliability.\n",
      "  - context: None\n",
      "  - retrieval context: None\n",
      "\n",
      "======================================================================\n",
      "\n",
      "Metrics Summary\n",
      "\n",
      "  - ✅ Correctness (GEval) (score: 0.8536521149598479, threshold: 0.5, strict: False, evaluation model: gpt-4o, reason: The actual output mentions strategies that align with the expected savings range and minimal investment criteria, but it lacks mention of potential discrepancies or missing specific strategies from the expected output., error: None)\n",
      "\n",
      "For test case:\n",
      "\n",
      "  - input: Which energy efficiency strategies, requiring minimal investment, yield 20-40% savings for small data centers?\n",
      "  - actual output: Strategies such as adjusting variable speed fans, replacing fan belt sheaves, and turning CRAC/ACU/CRAH/AHUs on or off can yield 20-40% savings for small data centers with minimal investment.\n",
      "  - expected output: Energy efficiency strategies for small data centers that require minimal investment and can yield 20-40% savings include turning off unused equipment, optimizing airflow management, and implementing simple cooling adjustments. These measures typically do not need extensive assessments and can be executed with little ongoing effort, ensuring no negative impact on IT equipment reliability when done carefully.\n",
      "  - context: None\n",
      "  - retrieval context: None\n",
      "\n",
      "======================================================================\n",
      "\n",
      "Metrics Summary\n",
      "\n",
      "  - ✅ Correctness (GEval) (score: 0.9932453305711164, threshold: 0.5, strict: False, evaluation model: gpt-4o, reason: The actual output accurately describes how power monitoring identifies energy-saving opportunities and improves PUE by addressing inefficiencies, optimizing power distribution, and enabling informed decision-making in data centers, aligning perfectly with the expected elements., error: None)\n",
      "\n",
      "For test case:\n",
      "\n",
      "  - input: In what ways does power monitoring identify savings opportunities and improve overall PUE in data centers?\n",
      "  - actual output: Power monitoring is crucial for identifying energy-saving opportunities and improving PUE in data centers. By continuously monitoring power usage, data center operators can detect and address inefficiencies, such as high-power consumption equipment, underutilized resources, and inefficient cooling systems. Power monitoring also helps optimize power distribution, leading to reduced energy waste and lower PUE. Furthermore, it enables operators to make informed decisions about equipment upgrades, maintenance, and capacity planning, which can result in significant energy savings and improved PUE.\n",
      "  - expected output: Power monitoring identifies energy-saving opportunities by assessing the energy usage and efficiencies of electrical distribution and cooling systems in data centers. By installing power meters at cooling unit panels or directly on IT and HVAC equipment, data centers can track energy consumption more accurately. This monitoring helps pinpoint inefficiencies and excess energy consumption, which can lead to targeted improvements. \n",
      "\n",
      "A key metric in this context is Power Usage Effectiveness (PUE), which measures total data center energy compared to IT input energy. By monitoring and striving to lower PUE‚Äîwhere values over 2 indicate significant improvement potential‚Äîdata centers can enhance their energy performance. Implementing strategies like power monitoring alongside airflow management and variable-speed drives can further optimize energy usage and reduce overall operational costs.\n",
      "  - context: None\n",
      "  - retrieval context: None\n",
      "\n",
      "======================================================================\n",
      "\n",
      "Metrics Summary\n",
      "\n",
      "  - ✅ Correctness (GEval) (score: 0.9939913352649803, threshold: 0.5, strict: False, evaluation model: gpt-4o, reason: The actual output accurately describes the role of variable-speed fans in CRAC units, mentioning adjustable fan speed based on cooling demand, reduced energy consumption, and improved airflow management, all of which align with enhancing energy efficiency in data centers., error: None)\n",
      "\n",
      "For test case:\n",
      "\n",
      "  - input: What role do variable-speed fans in CRAC units play in enhancing energy efficiency in data centers?\n",
      "  - actual output: Variable-speed fans in CRAC units contribute to energy efficiency in data centers by enabling fan speed adjustment based on cooling demand. This feature helps reduce energy consumption, as fans operate at lower speeds when cooling requirements are minimal. Additionally, variable-speed fans enhance airflow management, which can lead to improved cooling performance and energy savings.\n",
      "  - expected output: Variable-speed fans in CRAC units enhance energy efficiency in data centers by allowing for precise control of airflow based on cooling demand. This adaptability reduces energy consumption compared to fixed-speed fans, which operate at a constant rate regardless of the cooling needs. By optimizing airflow, variable-speed fans help maintain optimal temperatures and improve the overall efficiency of the cooling system, contributing to better performance and lower energy costs.\n",
      "  - context: None\n",
      "  - retrieval context: None\n",
      "\n",
      "======================================================================\n",
      "\n",
      "Overall Metric Pass Rates\n",
      "\n",
      "Correctness (GEval): 100.00% pass rate\n",
      "\n",
      "======================================================================\n",
      "\n"
     ]
    },
    {
     "name": "stderr",
     "output_type": "stream",
     "text": [
      "\n"
     ]
    },
    {
     "data": {
      "text/html": [
       "<pre style=\"white-space:pre;overflow-x:auto;line-height:normal;font-family:Menlo,'DejaVu Sans Mono',consolas,'Courier New',monospace\"><span style=\"color: #05f58d; text-decoration-color: #05f58d\">✓</span> Tests finished 🎉! Run <span style=\"color: #008000; text-decoration-color: #008000\">'deepeval login'</span> to save and analyze evaluation results on Confident AI. \n",
       "‼️  Friendly reminder 😇: You can also run evaluations with ALL of deepeval's metrics directly on Confident AI \n",
       "instead.\n",
       "</pre>\n"
      ],
      "text/plain": [
       "\u001b[38;2;5;245;141m✓\u001b[0m Tests finished 🎉! Run \u001b[32m'deepeval login'\u001b[0m to save and analyze evaluation results on Confident AI. \n",
       "‼️  Friendly reminder 😇: You can also run evaluations with ALL of deepeval's metrics directly on Confident AI \n",
       "instead.\n"
      ]
     },
     "metadata": {},
     "output_type": "display_data"
    },
    {
     "data": {
      "text/plain": [
       "EvaluationResult(test_results=[TestResult(success=True, metrics_data=[MetricData(name='Correctness (GEval)', threshold=0.5, success=True, score=0.7775845021643252, reason=\"The actual output accurately describes methods such as closed-loop chilled water, evaporative, and DX cooling systems, aligning with the question's focus on enhancing energy efficiency. It also accurately mentions advantages like improved temperature control, reduced energy consumption, and increased reliability. However, it assumes a data center context not specified in the input, which slightly affects relevance.\", strict_mode=False, evaluation_model='gpt-4o', error=None, evaluation_cost=0.0029575, verbose_logs='Criteria:\\nDetermine whether the actual output is factually correct based on the expected output. \\n \\nEvaluation Steps:\\n[\\n    \"Compare the factual accuracy of the actual output with the expected output.\",\\n    \"Identify discrepancies between facts stated in the actual output and those in the expected output.\",\\n    \"Assess whether any additional information in the actual output is factually correct and relevant.\",\\n    \"Evaluate the completeness of the actual output in covering all factual elements of the expected output.\"\\n]')], conversational=False, multimodal=False, input='What methods and advantages arise from installing dedicated cooling systems to enhance energy efficiency?', actual_output='There are several methods and advantages to installing dedicated cooling systems to enhance energy efficiency in a data center. One method is to use a closed-loop chilled water system, which can provide high efficiency and flexibility in cooling distribution. Another method is to use an evaporative cooling system, which can provide high efficiency and low operating costs in certain climates. A third method is to use a direct expansion (DX) cooling system, which can provide high efficiency and reliability in a wide range of climates. The advantages of using dedicated cooling systems include improved temperature and humidity control, reduced energy consumption, and increased reliability and availability.', expected_output='Installing dedicated cooling systems for server rooms offers several advantages for enhancing energy efficiency:\\n\\n1. **Reduced Energy Consumption**: By using cooling equipment specifically for the server room, the overall building cooling system does not need to operate continuously, leading to significant energy savings.\\n\\n2. **High-Efficiency Equipment**: Dedicated systems, such as packaged air conditioning units with high SEER ratings and outside-air economizers, are designed to optimize cooling efficiency specifically for the requirements of server rooms.\\n\\n3. **Effective Heat Management**: Implementing systems like exhaust fans and air-side economizers can effectively manage heat removal and improve airflow, reducing reliance on compressors and further saving energy.\\n\\n4. **Focused Training for Staff**: Equipping IT and facility staff with ongoing training in energy management and efficiency practices ensures that the cooling systems are used and maintained effectively, maximizing their energy-saving potential.\\n\\nOverall, dedicated cooling systems tailored for server environments can lead to substantial energy efficiency improvements.', context=None, retrieval_context=None), TestResult(success=True, metrics_data=[MetricData(name='Correctness (GEval)', threshold=0.5, success=True, score=0.9985936377296761, reason='The actual output matches the expected output by identifying both air-side and water-side economizers, correctly explaining their roles in enhancing energy efficiency through air management and temperature control.', strict_mode=False, evaluation_model='gpt-4o', error=None, evaluation_cost=0.0026074999999999996, verbose_logs='Criteria:\\nDetermine whether the actual output is factually correct based on the expected output. \\n \\nEvaluation Steps:\\n[\\n    \"Compare the actual output to the expected output to check for factual consistency.\",\\n    \"Verify if all key facts in the expected output are present and accurate in the actual output.\",\\n    \"Identify any discrepancies or missing information in the actual output compared to the expected output.\",\\n    \"Assess the relevance and correctness of additional information in the actual output that is not present in the expected output.\"\\n]')], conversational=False, multimodal=False, input='What types of economizers enhance energy efficiency in data centers through air management and temperature control?', actual_output='There are two types of economizers that enhance energy efficiency in data centers through air management and temperature control:\\n1. Air-side economizers use outside air to cool the data center when the ambient temperature is low enough, reducing the need for mechanical cooling.\\n2. Water-side economizers use chilled water from a cooling tower or other source to cool the data center when the ambient temperature is low enough, reducing the need for mechanical cooling.', expected_output='Economizers that enhance energy efficiency in data centers include air-to-air heat exchangers and \"tower side\" economizers, which utilize water cooled by cooling towers. Additionally, pumped refrigerant economizers can be employed, allowing the compressor to be off while the pump circulates refrigerant for cooling. These systems optimize air management and temperature control, increasing the number of economizer hours and improving overall efficiency.', context=None, retrieval_context=None), TestResult(success=True, metrics_data=[MetricData(name='Correctness (GEval)', threshold=0.5, success=True, score=0.9966914019211949, reason='The actual output accurately includes all key elements: dedicated cooling systems for targeted cooling, training for energy-efficient practices, and economizers using outside air, all contributing to energy efficiency in data centers. No discrepancies or additional incorrect information are present.', strict_mode=False, evaluation_model='gpt-4o', error=None, evaluation_cost=0.002725, verbose_logs='Criteria:\\nDetermine whether the actual output is factually correct based on the expected output. \\n \\nEvaluation Steps:\\n[\\n    \"Verify if the actual output contains all the factual elements present in the expected output.\",\\n    \"Check for any discrepancies or contradictions between the actual output and the expected facts.\",\\n    \"Ensure that the actual output does not include any additional incorrect information not present in the expected output.\",\\n    \"Assess the clarity and relevance of the actual output in accurately reflecting the expected facts.\"\\n]')], conversational=False, multimodal=False, input='Identify how dedicated cooling systems, training, and economizers can collectively enhance energy efficiency in data centers.', actual_output='Dedicated cooling systems can enhance energy efficiency in data centers by providing targeted cooling to specific areas, reducing the overall cooling load. Training staff on energy-efficient practices, such as proper server management and airflow optimization, can further improve energy efficiency. Economizers can also play a significant role by using outside air for cooling, reducing the need for mechanical cooling systems and saving energy. By combining these strategies, data centers can achieve significant energy savings and reduce their environmental impact.', expected_output=\"Dedicated cooling systems, such as packaged air conditioning units for server rooms, can operate independently of the building's main cooling system, leading to significant energy savings by reducing unnecessary compressor use. Training IT and facilities staff on energy efficiency best practices, including participation in programs like the Data Center Energy Practitioner (DCEP) training, ensures that staff are equipped to implement and maintain these systems effectively. Additionally, incorporating air-side economizers allows for the use of outside air to cool the data center, further minimizing energy consumption by reducing reliance on mechanical cooling. Together, these strategies create a comprehensive approach to enhancing energy efficiency in data centers.\", context=None, retrieval_context=None), TestResult(success=True, metrics_data=[MetricData(name='Correctness (GEval)', threshold=0.5, success=True, score=0.9332745502718958, reason='The actual output accurately describes how variable-speed drives contribute to energy savings through airflow optimization and power reduction. It mentions adjusting fan speed to cooling needs, reducing power consumption, and minimizing energy waste. However, it slightly extends the scope by discussing the impact on a data center environment, which is not explicitly required.', strict_mode=False, evaluation_model='gpt-4o', error=None, evaluation_cost=0.0027400000000000002, verbose_logs='Criteria:\\nDetermine whether the actual output is factually correct based on the expected output. \\n \\nEvaluation Steps:\\n[\\n    \"Compare the actual output to the expected output for factual consistency.\",\\n    \"Identify any discrepancies between the actual output and the expected output.\",\\n    \"Verify the factual accuracy of the actual output by cross-referencing with reliable sources.\",\\n    \"Determine whether the actual output fully aligns with the expected output in terms of factual information.\"\\n]')], conversational=False, multimodal=False, input='Discuss how variable-speed drives on cooling fans contribute to energy savings through airflow optimization and power reduction.', actual_output='Variable-speed drives (VSDs) on cooling fans enable airflow optimization by adjusting fan speed according to the cooling needs of the data center. This results in reduced power consumption and energy savings. VSDs also improve the efficiency of the cooling system by minimizing energy waste, leading to lower operational costs and a smaller carbon footprint. By maintaining optimal airflow and temperature, VSDs contribute to a more stable and reliable data center environment.', expected_output='Variable-speed drives (VSDs) on cooling fans optimize airflow by adjusting the fan speed to match the actual cooling needs of IT equipment. This adaptability reduces unnecessary airflow, which is often more than required, resulting in significant energy savings. Specifically, a 20% reduction in airflow can lead to approximately 50% savings in fan power, as fan power consumption scales with the cube of the flow. To maximize these savings, it is beneficial to implement airflow management measures alongside VSD installation, further enhancing efficiency in cooling systems.', context=None, retrieval_context=None), TestResult(success=True, metrics_data=[MetricData(name='Correctness (GEval)', threshold=0.5, success=True, score=0.9754915001669096, reason='The actual output provides effective multi-step strategies for enhancing air quality and filtration systems in data centers, including maintenance, HEPA filters, humidity control, air purifiers, and monitoring. These steps are factually accurate and align closely with the expected strategies, with no significant discrepancies noted.', strict_mode=False, evaluation_model='gpt-4o', error=None, evaluation_cost=0.0026425, verbose_logs='Criteria:\\nDetermine whether the actual output is factually correct based on the expected output. \\n \\nEvaluation Steps:\\n[\\n    \"Compare the actual output against the expected output for factual accuracy.\",\\n    \"Identify any discrepancies between the actual and expected outputs.\",\\n    \"Verify the factual correctness of each element within the actual output.\",\\n    \"Assess if the actual output aligns with the expected output in its entirety.\"\\n]')], conversational=False, multimodal=False, input='What multi-step strategies can data centers employ to enhance air quality and filtration systems effectively?', actual_output='Here are some strategies that data centers can employ to enhance air quality and filtration systems:\\n1. Implement a comprehensive cleaning and maintenance program for the air handling units, filters, and ductwork.\\n2. Use high-efficiency particulate air (HEPA) filters to remove airborne particles and contaminants.\\n3. Implement a humidity control system to prevent the growth of mold and other microorganisms.\\n4. Use air purifiers with activated carbon filters to remove odors and volatile organic compounds (VOCs).\\n5. Regularly monitor air quality using air quality sensors and take corrective action as needed.', expected_output=\"Data centers can enhance air quality and filtration systems through the following multi-step strategies:\\n\\n1. **Conduct Air Quality Tests**: Perform on-site air quality tests prior to construction to identify gaseous contaminants, which may necessitate reconsidering the data center's location.\\n\\n2. **Implement Enhanced Filtration**: If contaminants are present or outdoor air is not used for cooling, enhanced filtration systems should be installed to mitigate particulate contamination.\\n\\n3. **Optimize Air Management**: Utilize improved air management techniques to allow for higher return air temperatures, which can significantly increase economizer hours.\\n\\n4. **Follow ASHRAE Guidelines**: Operate data centers at higher ASHRAE-recommended supply air temperatures to maximize efficiency and economizer operation.\\n\\n5. **Evaluate Chilled-Water Temperatures**: Assess optimum chilled-water temperatures for Computer Room Air Handler (CRAH) units and chillers to achieve high efficiency without compromising air inlet temperatures.\\n\\n6. **Consider Economizer Options**: Opt for economizers that do not introduce outside air, such as air-to-air heat exchangers or pumped refrigerant economizers, to enhance cooling effectiveness while maintaining air quality.\\n\\nBy implementing these strategies, data centers can effectively improve air quality and filtration while maximizing operational efficiency.\", context=None, retrieval_context=None), TestResult(success=True, metrics_data=[MetricData(name='Correctness (GEval)', threshold=0.5, success=True, score=0.8497078542128149, reason='The output identifies factors like limited space for cooling and high power density, aligning with the input. However, it includes additional solutions and monitoring strategies not explicitly requested in the input.', strict_mode=False, evaluation_model='gpt-4o', error=None, evaluation_cost=0.0024875, verbose_logs='Criteria:\\nDetermine whether the actual output is factually correct based on the expected output. \\n \\nEvaluation Steps:\\n[\\n    \"Compare the actual output directly with the expected output for factual consistency.\",\\n    \"Identify any discrepancies between the actual output and the expected output.\",\\n    \"Check each fact in the actual output against the expected output for accuracy.\",\\n    \"Determine if the actual output contains any information not present in the expected output and verify its correctness.\"\\n]')], conversational=False, multimodal=False, input='Examine the underlying factors contributing to suboptimal energy designs in compact server facilities.', actual_output='Compact server facilities often struggle with energy efficiency due to factors like limited space for efficient cooling systems, high power density leading to increased heat generation, and insufficient monitoring and management of energy usage. To address these challenges, consider implementing measures such as using energy-efficient IT equipment, optimizing cooling systems, and implementing energy management systems. Additionally, regular maintenance and monitoring of energy usage can help identify areas for improvement and ensure that energy-saving measures are effective.', expected_output='The suboptimal energy designs in compact server facilities can be attributed to several underlying factors:\\n\\n1. **Inadequate Initial Design**: Many small server rooms were not originally designed for server operations, resulting in inefficient room configurations and cooling schemes.\\n\\n2. **Principal-Agent Problem**: Server owners/operators often do not pay utility bills directly, leading to a lack of feedback on energy costs and minimal motivation to pursue energy efficiency improvements.\\n\\n3. **Business Prioritization**: Operational needs often take precedence over energy efficiency, especially in environments where servers support critical internal functions rather than profit-driven services.\\n\\n4. **IT Equipment Issues**: Limited budgets and the absence of regular equipment updates lead to older, less efficient hardware. Additionally, low utilization rates suggest that server consolidation and virtualization could significantly enhance energy efficiency.\\n\\n5. **Comparison with Centralized Data Centers**: Centralized data centers achieve greater energy efficiency, highlighting the potential benefits for small server room owners if they consider migrating to these larger facilities.\\n\\nAddressing these factors is essential for improving energy efficiency in small server rooms.', context=None, retrieval_context=None), TestResult(success=True, metrics_data=[MetricData(name='Correctness (GEval)', threshold=0.5, success=True, score=0.8538188035669162, reason='The actual output effectively addresses key aspects of enhancing energy efficiency and minimizing waste in smaller data centers, such as optimizing cooling systems, using energy-efficient UPS systems, selecting efficient IT equipment, implementing monitoring systems, and updating policies. However, it lacks mention of potential renewable energy integration or waste heat utilization, which could be critical in some expected outputs.', strict_mode=False, evaluation_model='gpt-4o', error=None, evaluation_cost=0.00292, verbose_logs='Criteria:\\nDetermine whether the actual output is factually correct based on the expected output. \\n \\nEvaluation Steps:\\n[\\n    \"Compare the key facts in the actual output against the expected output to ensure accuracy.\",\\n    \"Identify any discrepancies between the actual output and the expected output.\",\\n    \"Verify whether all critical information in the expected output is present in the actual output.\",\\n    \"Check for any additional information in the actual output that is not supported by the expected output.\"\\n]')], conversational=False, multimodal=False, input='What multifaceted approaches can enhance energy efficiency and minimize waste in smaller data centers?', actual_output='1. Optimize cooling systems by adjusting supply air temperature control and eliminating unnecessary components like flow control valves.\\n2. Utilize energy-efficient UPS systems, such as double conversion or line-interactive topologies, to improve power quality and reduce energy consumption.\\n3. Select energy-efficient IT equipment, like servers and storage devices, to lower energy consumption and operating costs.\\n4. Implement monitoring and metering systems to track energy usage and identify areas for improvement.\\n5. Regularly review and update energy management policies and procedures to ensure ongoing efficiency and waste reduction.', expected_output='To enhance energy efficiency and minimize waste in smaller data centers, consider the following multifaceted approaches:\\n\\n1. **Adopt Best Practices**: Utilize guidelines from the \"Best Practices Guide for Energy-Efficient Data Center Design\" which covers IT systems, cooling, air management, and heat recovery.\\n\\n2. **Implement ASHRAE Standards**: Follow ASHRAE 90.4-2016 for energy efficiency benchmarks specifically tailored for data centers.\\n\\n3. **Optimize Cooling Systems**: Focus on efficient cooling solutions that reduce energy consumption while maintaining optimal environmental conditions for IT equipment.\\n\\n4. **Utilize On-Site Generation**: Explore on-site energy generation options to decrease reliance on external power sources and improve overall efficiency.\\n\\n5. **Energy Monitoring and Management**: Regularly monitor energy usage and implement management strategies to identify and rectify inefficiencies.\\n\\n6. **Consider Lifecycle Costs**: Evaluate life cycle costs versus initial costs to make informed decisions that prioritize long-term energy savings.\\n\\n7. **Leverage Energy Star Resources**: Utilize tools and resources from the Energy Star program to improve energy performance in smaller data centers.\\n\\nBy integrating these strategies, smaller data centers can significantly boost energy efficiency and reduce waste.', context=None, retrieval_context=None), TestResult(success=True, metrics_data=[MetricData(name='Correctness (GEval)', threshold=0.5, success=True, score=0.9212285250234775, reason='The actual output effectively addresses strategies for both inventory tracking and energy efficiency, mentioning automated inventory systems, energy audits, and energy-efficient practices, which align with the input question. However, the output could be more explicit in directly linking each strategy to both inventory tracking and energy efficiency, as some strategies focus more heavily on one aspect.', strict_mode=False, evaluation_model='gpt-4o', error=None, evaluation_cost=0.0029275, verbose_logs='Criteria:\\nDetermine whether the actual output is factually correct based on the expected output. \\n \\nEvaluation Steps:\\n[\\n    \"Compare the actual output\\'s claims with the expected output for factual consistency.\",\\n    \"Identify any discrepancies between the actual output and the expected output.\",\\n    \"Verify the accuracy of specific details in the actual output against the expected output.\",\\n    \"Assess whether the overall message of the actual output aligns with the expected output.\"\\n]')], conversational=False, multimodal=False, input='What multi-faceted strategies can data center operators employ to enhance inventory tracking and energy efficiency?', actual_output='Data center operators can employ several strategies to enhance inventory tracking and energy efficiency. These include:\\n\\n1. Implementing an automated inventory tracking system that uses RFID or barcode technology to monitor equipment and resources.\\n2. Regularly auditing and maintaining equipment to ensure optimal performance and energy efficiency.\\n3. Conducting energy audits to identify areas of energy waste and inefficiency.\\n4. Implementing energy-efficient practices, such as using energy-efficient equipment, optimizing cooling systems, and implementing power management strategies.\\n5. Training staff on energy-efficient practices and encouraging them to report any energy-saving opportunities they identify.\\n6. Continuously monitoring and analyzing energy usage data to identify trends and areas for improvement.\\n7. Setting energy-saving goals and targets, and regularly reviewing progress towards these goals.', expected_output='Data center operators can enhance inventory tracking and energy efficiency through several multi-faceted strategies:\\n\\n1. **Implement Comprehensive Inventory Management Systems**: Utilize user-friendly platforms to maintain detailed records of equipment make, model, and specifications to streamline access to inventory data.\\n\\n2. **Track Server Utilization**: Invest in cost-effective monitoring tools that provide real-time data on server utilization rates, enabling informed decisions for energy efficiency improvements.\\n\\n3. **Optimize Power Measurement Practices**: Separate metering for different end uses can help identify specific power consumption and losses, allowing for targeted improvements in energy efficiency.\\n\\n4. **Adopt Virtualization and Consolidation**: Implement virtualization and consolidation strategies to reduce the number of physical servers needed, thus lowering overall power consumption.\\n\\n5. **Regularly Review Organizational Policies**: Establish and maintain guidelines for server room operations, including protocols for new server installations and energy consumption practices.\\n\\n6. **Enhance Cooling Systems**: Evaluate and upgrade cooling systems to improve efficiency, ensuring they align with the current operational needs and configurations of the server space.\\n\\n7. **Conduct In-Depth Assessments**: Regular assessments of server room practices and infrastructure can reveal opportunities for further energy savings and operational improvements.\\n\\nBy employing these strategies, data center operators can effectively track inventory and enhance energy efficiency in their operations.', context=None, retrieval_context=None), TestResult(success=True, metrics_data=[MetricData(name='Correctness (GEval)', threshold=0.5, success=True, score=0.9423169657949357, reason='The actual output provides a comprehensive list of simple and cost-effective energy-saving measures for small data centers, aligning with the expected query. All suggestions are factually accurate and relevant to the context of small data centers, with no discrepancies or errors identified.', strict_mode=False, evaluation_model='gpt-4o', error=None, evaluation_cost=0.0030550000000000004, verbose_logs='Criteria:\\nDetermine whether the actual output is factually correct based on the expected output. \\n \\nEvaluation Steps:\\n[\\n    \"Step 1: Compare the actual output with the expected output to identify any discrepancies.\",\\n    \"Step 2: Verify the factual accuracy of the actual output against reliable sources.\",\\n    \"Step 3: Assess whether the actual output meets the requirements of the expected output in terms of content and context.\",\\n    \"Step 4: Document any inconsistencies or errors found between the actual output and the expected output.\"\\n]')], conversational=False, multimodal=False, input='What simple and cost-effective energy-saving measures can small data centers implement effectively?', actual_output='Here are some simple and cost-effective energy-saving measures that small data centers can implement effectively:\\n1. Optimize cooling systems: Small data centers can optimize their cooling systems by ensuring proper air flow, using energy-efficient fans, and maintaining appropriate temperature and humidity levels.\\n2. Implement power management: Power management techniques, such as powering down idle equipment and using energy-efficient power supplies, can help reduce energy consumption.\\n3. Upgrade to energy-efficient equipment: Replacing old and inefficient equipment with energy-efficient models can lead to significant energy savings.\\n4. Monitor and analyze energy usage: Regularly monitoring and analyzing energy usage can help identify areas for improvement and track the effectiveness of energy-saving measures.\\n5. Implement energy-saving policies: Establishing energy-saving policies, such as turning off equipment during off-peak hours or setting temperature limits, can help reduce energy consumption.', expected_output='Small data centers can implement several simple and cost-effective energy-saving measures, including:\\n\\n1. **Turning off unused equipment**: Identify and shut down servers or devices that are not in use to reduce energy consumption.\\n2. **Optimizing airflow**: Ensure proper airflow management by organizing cables and equipment to minimize obstructions.\\n3. **Adjusting temperature settings**: Set the intake air temperature to a prudent level to maximize cooling efficiency without compromising equipment reliability.\\n4. **Regular maintenance**: Perform routine checks and maintenance on cooling systems to ensure they operate efficiently.\\n\\nImplementing these measures can lead to energy savings of 20 to 40% without negatively impacting IT equipment reliability.', context=None, retrieval_context=None), TestResult(success=True, metrics_data=[MetricData(name='Correctness (GEval)', threshold=0.5, success=True, score=0.8536521149598479, reason='The actual output mentions strategies that align with the expected savings range and minimal investment criteria, but it lacks mention of potential discrepancies or missing specific strategies from the expected output.', strict_mode=False, evaluation_model='gpt-4o', error=None, evaluation_cost=0.0025025, verbose_logs='Criteria:\\nDetermine whether the actual output is factually correct based on the expected output. \\n \\nEvaluation Steps:\\n[\\n    \"Verify if the key facts in the actual output align with those in the expected output.\",\\n    \"Check for any discrepancies or missing information between the actual output and the expected output.\",\\n    \"Assess the logical consistency of the actual output in the context of the expected output.\",\\n    \"Ensure that the actual output does not contain any additional incorrect information not present in the expected output.\"\\n]')], conversational=False, multimodal=False, input='Which energy efficiency strategies, requiring minimal investment, yield 20-40% savings for small data centers?', actual_output='Strategies such as adjusting variable speed fans, replacing fan belt sheaves, and turning CRAC/ACU/CRAH/AHUs on or off can yield 20-40% savings for small data centers with minimal investment.', expected_output='Energy efficiency strategies for small data centers that require minimal investment and can yield 20-40% savings include turning off unused equipment, optimizing airflow management, and implementing simple cooling adjustments. These measures typically do not need extensive assessments and can be executed with little ongoing effort, ensuring no negative impact on IT equipment reliability when done carefully.', context=None, retrieval_context=None), TestResult(success=True, metrics_data=[MetricData(name='Correctness (GEval)', threshold=0.5, success=True, score=0.9932453305711164, reason='The actual output accurately describes how power monitoring identifies energy-saving opportunities and improves PUE by addressing inefficiencies, optimizing power distribution, and enabling informed decision-making in data centers, aligning perfectly with the expected elements.', strict_mode=False, evaluation_model='gpt-4o', error=None, evaluation_cost=0.0025575, verbose_logs='Criteria:\\nDetermine whether the actual output is factually correct based on the expected output. \\n \\nEvaluation Steps:\\n[\\n    \"Compare the actual output with the expected output to check for factual correctness.\",\\n    \"Identify any discrepancies between the actual output and the expected output.\",\\n    \"Evaluate whether discrepancies are due to factual errors in the actual output.\",\\n    \"Confirm that all factual elements in the expected output are accurately reflected in the actual output.\"\\n]')], conversational=False, multimodal=False, input='In what ways does power monitoring identify savings opportunities and improve overall PUE in data centers?', actual_output='Power monitoring is crucial for identifying energy-saving opportunities and improving PUE in data centers. By continuously monitoring power usage, data center operators can detect and address inefficiencies, such as high-power consumption equipment, underutilized resources, and inefficient cooling systems. Power monitoring also helps optimize power distribution, leading to reduced energy waste and lower PUE. Furthermore, it enables operators to make informed decisions about equipment upgrades, maintenance, and capacity planning, which can result in significant energy savings and improved PUE.', expected_output='Power monitoring identifies energy-saving opportunities by assessing the energy usage and efficiencies of electrical distribution and cooling systems in data centers. By installing power meters at cooling unit panels or directly on IT and HVAC equipment, data centers can track energy consumption more accurately. This monitoring helps pinpoint inefficiencies and excess energy consumption, which can lead to targeted improvements. \\n\\nA key metric in this context is Power Usage Effectiveness (PUE), which measures total data center energy compared to IT input energy. By monitoring and striving to lower PUE‚Äîwhere values over 2 indicate significant improvement potential‚Äîdata centers can enhance their energy performance. Implementing strategies like power monitoring alongside airflow management and variable-speed drives can further optimize energy usage and reduce overall operational costs.', context=None, retrieval_context=None), TestResult(success=True, metrics_data=[MetricData(name='Correctness (GEval)', threshold=0.5, success=True, score=0.9939913352649803, reason='The actual output accurately describes the role of variable-speed fans in CRAC units, mentioning adjustable fan speed based on cooling demand, reduced energy consumption, and improved airflow management, all of which align with enhancing energy efficiency in data centers.', strict_mode=False, evaluation_model='gpt-4o', error=None, evaluation_cost=0.00252, verbose_logs='Criteria:\\nDetermine whether the actual output is factually correct based on the expected output. \\n \\nEvaluation Steps:\\n[\\n    \"Compare the actual output with the expected output for factual accuracy.\",\\n    \"Identify any discrepancies between the actual and expected outputs.\",\\n    \"Verify the correctness of the actual output against reliable sources if discrepancies are found.\",\\n    \"Conclude if the actual output is factually correct or incorrect based on the comparison and verification.\"\\n]')], conversational=False, multimodal=False, input='What role do variable-speed fans in CRAC units play in enhancing energy efficiency in data centers?', actual_output='Variable-speed fans in CRAC units contribute to energy efficiency in data centers by enabling fan speed adjustment based on cooling demand. This feature helps reduce energy consumption, as fans operate at lower speeds when cooling requirements are minimal. Additionally, variable-speed fans enhance airflow management, which can lead to improved cooling performance and energy savings.', expected_output='Variable-speed fans in CRAC units enhance energy efficiency in data centers by allowing for precise control of airflow based on cooling demand. This adaptability reduces energy consumption compared to fixed-speed fans, which operate at a constant rate regardless of the cooling needs. By optimizing airflow, variable-speed fans help maintain optimal temperatures and improve the overall efficiency of the cooling system, contributing to better performance and lower energy costs.', context=None, retrieval_context=None)], confident_link=None)"
      ]
     },
     "execution_count": 13,
     "metadata": {},
     "output_type": "execute_result"
    }
   ],
   "source": [
    "dataset.evaluate([correctness_metric])"
   ]
  },
  {
   "cell_type": "code",
   "execution_count": null,
   "metadata": {},
   "outputs": [],
   "source": []
  }
 ],
 "metadata": {
  "kernelspec": {
   "display_name": ".venv",
   "language": "python",
   "name": "python3"
  },
  "language_info": {
   "codemirror_mode": {
    "name": "ipython",
    "version": 3
   },
   "file_extension": ".py",
   "mimetype": "text/x-python",
   "name": "python",
   "nbconvert_exporter": "python",
   "pygments_lexer": "ipython3",
   "version": "3.11.3"
  }
 },
 "nbformat": 4,
 "nbformat_minor": 2
}
