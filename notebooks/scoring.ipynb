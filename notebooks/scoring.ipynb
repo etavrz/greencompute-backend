{
 "cells": [
  {
   "cell_type": "markdown",
   "metadata": {},
   "source": [
    "# Scoring Different Prompting Techniques with DeepEval\n",
    "\n",
    "Three different prompting techniques are evaluated in this notebook:\n",
    "\n",
    "1. Base RAG Prompt \n",
    "2. Advanced RAG Prompt (role-based)\n",
    "3. Optimized RAG Prompt (based on DSPy)"
   ]
  },
  {
   "cell_type": "code",
   "execution_count": 8,
   "metadata": {},
   "outputs": [],
   "source": [
    "import pandas as pd\n",
    "import deepeval\n",
    "import dspy\n",
    "import requests\n",
    "import json"
   ]
  },
  {
   "cell_type": "code",
   "execution_count": 20,
   "metadata": {},
   "outputs": [
    {
     "name": "stdout",
     "output_type": "stream",
     "text": [
      "Total records: 52\n"
     ]
    }
   ],
   "source": [
    "# Load data\n",
    "dataset = pd.read_excel(\"synthetics/synthetic_dataset_revised.xlsx\")\n",
    "dataset_dict = dataset.to_dict(orient=\"records\")\n",
    "print(f\"Total records: {len(dataset_dict)}\")"
   ]
  },
  {
   "cell_type": "code",
   "execution_count": 13,
   "metadata": {},
   "outputs": [],
   "source": [
    "# Setting constants for all the models\n",
    "TOP_K = 20\n",
    "MAX_TOKENS = 1024\n",
    "TOP_P = 0.8"
   ]
  },
  {
   "cell_type": "code",
   "execution_count": 24,
   "metadata": {},
   "outputs": [],
   "source": [
    "# Base Prompt\n",
    "from typing import Literal\n",
    "\n",
    "def rag_call(prompt: str, prompt_type: Literal[\"cite\", \"base\"]) -> str:\n",
    "    request_body = {\n",
    "        \"body\": prompt,\n",
    "        \"max_tokens\": 1024,\n",
    "\t\t\"prompt\": prompt_type,\n",
    "\t\t\"top_k\": TOP_K,\n",
    "\t\t\"top_p\": TOP_P,\n",
    "\t}\n",
    "    response = requests.post(\n",
    "        url=\"http://greencompute-1575332443.us-east-1.elb.amazonaws.com/api/llm/rag\",\n",
    "        json=request_body\n",
    "\t)\n",
    "    return response.json()[\"response\"]"
   ]
  },
  {
   "cell_type": "code",
   "execution_count": 25,
   "metadata": {},
   "outputs": [
    {
     "name": "stdout",
     "output_type": "stream",
     "text": [
      "Prompt Type: cite\n"
     ]
    },
    {
     "data": {
      "application/vnd.jupyter.widget-view+json": {
       "model_id": "3d57f244489447caa384b4552ef1aad9",
       "version_major": 2,
       "version_minor": 0
      },
      "text/plain": [
       "  0%|          | 0/52 [00:00<?, ?it/s]"
      ]
     },
     "metadata": {},
     "output_type": "display_data"
    },
    {
     "name": "stdout",
     "output_type": "stream",
     "text": [
      "Prompt Type: base\n"
     ]
    },
    {
     "data": {
      "application/vnd.jupyter.widget-view+json": {
       "model_id": "babbc55bf75b401689aabb9fdbb59b9c",
       "version_major": 2,
       "version_minor": 0
      },
      "text/plain": [
       "  0%|          | 0/52 [00:00<?, ?it/s]"
      ]
     },
     "metadata": {},
     "output_type": "display_data"
    }
   ],
   "source": [
    "from tqdm.notebook import tqdm\n",
    "\n",
    "for prompt_type in [\"cite\", \"base\"]:\n",
    "\tprint(f\"Prompt Type: {prompt_type}\")\n",
    "\tfor record in tqdm(dataset_dict):\n",
    "\t\tgenerated_text = rag_call(record[\"input\"], prompt_type)\n",
    "\t\trecord[f\"generated_{prompt_type}\"] = generated_text"
   ]
  },
  {
   "cell_type": "code",
   "execution_count": 26,
   "metadata": {},
   "outputs": [],
   "source": [
    "# save dictionary to json \n",
    "with open(\"synthetics/synthetic_dataset_revised.json\", \"w\") as f:\n",
    "\tjson.dump(dataset_dict, f, indent=4)"
   ]
  },
  {
   "cell_type": "code",
   "execution_count": null,
   "metadata": {},
   "outputs": [],
   "source": [
    "# read json file\n",
    "with open(\"synthetics/synthetic_dataset_revised.json\", \"r\") as f:\n",
    "\tdataset_dict = json.load(f)"
   ]
  }
 ],
 "metadata": {
  "kernelspec": {
   "display_name": ".venv",
   "language": "python",
   "name": "python3"
  },
  "language_info": {
   "codemirror_mode": {
    "name": "ipython",
    "version": 3
   },
   "file_extension": ".py",
   "mimetype": "text/x-python",
   "name": "python",
   "nbconvert_exporter": "python",
   "pygments_lexer": "ipython3",
   "version": "3.11.3"
  }
 },
 "nbformat": 4,
 "nbformat_minor": 2
}
