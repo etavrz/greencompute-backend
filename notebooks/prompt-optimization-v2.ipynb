{
 "cells": [
  {
   "cell_type": "code",
   "execution_count": 8,
   "metadata": {},
   "outputs": [],
   "source": [
    "import pandas as pd\n",
    "import dspy\n",
    "from dspy.evaluate import SemanticF1\n",
    "import json\n",
    "import requests\n",
    "import boto3"
   ]
  },
  {
   "cell_type": "code",
   "execution_count": 9,
   "metadata": {},
   "outputs": [],
   "source": [
    "# Helper functions to setup datset and evaluation\n",
    "def create_dataset(path: str) -> list[dspy.Example]:\n",
    "\tdataset = pd.read_excel(path)\n",
    "\tdataset_dict = dataset.to_dict(orient='records')\n",
    "\tdspy_dataset = []\n",
    "\n",
    "\tfor row in dataset_dict:\n",
    "\t\tdspy_dataset.append(dspy.Example(question=row['input'], response=row['expected_output']).with_inputs(\"question\"))\n",
    "\n",
    "\tprint(f\"Dataset length: {len(dspy_dataset)}\")\n",
    "\treturn dspy_dataset\n",
    "\n",
    "def create_sets(dataset: list[dspy.Example], metric: dspy.Module = SemanticF1()):\n",
    "\ttrainset, valset, devset, testset = dataset[:15], dataset[15:30], dataset[30:40], dataset[40:]\n",
    "\tevaluate = dspy.Evaluate(devset=devset, metric=metric, num_threads=24, display_progress=True, display_table=3)\n",
    "\n",
    "\tfor name, set in zip([trainset, valset, devset, testset], [\"trainset\", \"valset\", \"devset\", \"testset\"]):\n",
    "\t\tprint(f\"{set} length: {len(name)}\")\n",
    "\n",
    "\treturn trainset, valset, devset, testset, evaluate"
   ]
  },
  {
   "cell_type": "code",
   "execution_count": 10,
   "metadata": {},
   "outputs": [
    {
     "name": "stdout",
     "output_type": "stream",
     "text": [
      "Dataset length: 52\n",
      "trainset length: 15\n",
      "valset length: 15\n",
      "devset length: 10\n",
      "testset length: 12\n"
     ]
    }
   ],
   "source": [
    "dspy_dataset = create_dataset(\"synthetics/synthetic_dataset_revised.xlsx\")\n",
    "trainset, valset, devset, testset, evaluate = create_sets(dspy_dataset)"
   ]
  },
  {
   "cell_type": "code",
   "execution_count": 11,
   "metadata": {},
   "outputs": [],
   "source": [
    "def search(query: str, top_k: int) -> list[str]:\n",
    "    url = \"http://localhost:8000/api/llm/retrieval\"\n",
    "    headers = {\n",
    "        \"accept\": \"application/json\",\n",
    "        \"Content-Type\": \"application/json\"\n",
    "    }\n",
    "    data = {\n",
    "        \"query\": query,\n",
    "        \"top_k\": top_k\n",
    "    }\n",
    "\n",
    "    documents = requests.post(url, headers=headers, json=data).json()[\"documents\"]\n",
    "    return [f\"[{i}]\" + doc[\"doc_title\"] + doc[\"url\"] + \"\\n\\n\" + doc[\"content\"] for i, doc in enumerate(documents)]\n",
    "\n",
    "class TitanLM(dspy.LM):\n",
    "    def __init__(self, model: str, client, max_tokens: int = 1024, temperature: float = 0.7, top_p: float = 0.9, **kwargs):\n",
    "        self.client = client\n",
    "        self.history = []\n",
    "        self.temperature = temperature\n",
    "        self.max_tokens = 1024\n",
    "        self.top_p = top_p\n",
    "\n",
    "        super().__init__(model, **kwargs)\n",
    "        self.model = model\n",
    "    \n",
    "    def _format_message(self, prompt: str):\n",
    "        body = json.dumps(\n",
    "            {\n",
    "                \"inputText\": prompt,\n",
    "                \"textGenerationConfig\": {\n",
    "                    \"maxTokenCount\": self.max_tokens,\n",
    "                    \"stopSequences\": [],\n",
    "                    \"temperature\": self.temperature,\n",
    "                    \"topP\": self.top_p,\n",
    "                },\n",
    "            }\n",
    "        )\n",
    "        return body\n",
    "\n",
    "    def generate_content(self, prompt: str) -> str:\n",
    "        body = self._format_message(prompt)\n",
    "        response = self.client.invoke_model(\n",
    "            body=body,\n",
    "            modelId=self.model,\n",
    "            accept=\"application/json\",\n",
    "            contentType=\"application/json\",\n",
    "        )\n",
    "        response_body = json.loads(response.get(\"body\").read())\n",
    "        return response_body.get(\"results\")\n",
    "\n",
    "    def __call__(self, prompt=None, messages=None, **kwargs):\n",
    "        # Custom chat model working for text completion model\n",
    "        prompt = '\\n\\n'.join([x['content'] for x in messages] + ['BEGIN RESPONSE:'])\n",
    "\n",
    "        completions = self.generate_content(prompt)\n",
    "        self.history.append({\"prompt\": prompt, \"completions\": completions})\n",
    "\n",
    "        # Must return a list of strings\n",
    "        return [completions[0].get(\"outputText\")]\n",
    "\n",
    "    def inspect_history(self):\n",
    "        for interaction in self.history:\n",
    "            print(f\"Prompt: {interaction['prompt']} -> Completions: {interaction['completions']}\")"
   ]
  },
  {
   "cell_type": "code",
   "execution_count": 12,
   "metadata": {},
   "outputs": [],
   "source": [
    "class GenerateCitedParagraph(dspy.Signature):\n",
    "    \"\"\"Generate a paragraph with citations.\"\"\"\n",
    "    context = dspy.InputField(desc=\"contain relevant information to help answer question.\")\n",
    "    question = dspy.InputField()\n",
    "    response = dspy.OutputField(\n",
    "        desc=\"\"\"\n",
    "        Includes citations with links to source. \n",
    "        Return sources in the way they are presented in the context (with format [x] and links).\n",
    "        \"\"\"\n",
    "    )\n",
    "\n",
    "class CitedRAG(dspy.Module):\n",
    "    def __init__(self, num_docs=30):\n",
    "        self.num_docs = num_docs\n",
    "        self.respond = dspy.ChainOfThought(GenerateCitedParagraph)\n",
    "\n",
    "    def forward(self, question):\n",
    "        context = search(question, top_k=self.num_docs)\n",
    "        return self.respond(context=context, question=question)"
   ]
  },
  {
   "cell_type": "code",
   "execution_count": 13,
   "metadata": {},
   "outputs": [],
   "source": [
    "lm = TitanLM(\"amazon.titan-text-premier-v1:0\", client=boto3.client(\"bedrock-runtime\"))\n",
    "dspy.configure(lm=lm)"
   ]
  },
  {
   "cell_type": "code",
   "execution_count": 14,
   "metadata": {},
   "outputs": [
    {
     "data": {
      "text/plain": [
       "Prediction(\n",
       "    reasoning='The user is asking for a way to increase data center efficiency. One way to increase data center efficiency is by using an Uninterruptible Power Supply (UPS). UPS can provide high efficiency up to 99% and a few UPS manufacturers can even achieve output power quality of Class 1 as defined by IEC62040-3.',\n",
       "    response='You can increase your data center efficiency by using an Uninterruptible Power Supply (UPS). UPS can provide high efficiency up to 99% and a few UPS manufacturers can even achieve output power quality of Class 1 as defined by IEC62040-3.'\n",
       ")"
      ]
     },
     "execution_count": 14,
     "metadata": {},
     "output_type": "execute_result"
    }
   ],
   "source": [
    "rag = CitedRAG()\n",
    "rag(question=\"How do I increase my data center efficiency?\")"
   ]
  },
  {
   "cell_type": "code",
   "execution_count": 15,
   "metadata": {},
   "outputs": [
    {
     "name": "stderr",
     "output_type": "stream",
     "text": [
      "Average Metric: 2.2277331364287885 / 10  (22.3): 100%|██████████| 10/10 [00:45<00:00,  4.54s/it]\n",
      "2024/11/09 11:55:50 INFO dspy.evaluate.evaluate: Average Metric: 2.2277331364287885 / 10 (22.3%)\n"
     ]
    },
    {
     "data": {
      "text/html": [
       "<style type=\"text/css\">\n",
       "#T_e1256 th {\n",
       "  text-align: left;\n",
       "}\n",
       "#T_e1256 td {\n",
       "  text-align: left;\n",
       "}\n",
       "#T_e1256_row0_col0, #T_e1256_row0_col1, #T_e1256_row0_col2, #T_e1256_row0_col3, #T_e1256_row0_col4, #T_e1256_row1_col0, #T_e1256_row1_col1, #T_e1256_row1_col2, #T_e1256_row1_col3, #T_e1256_row1_col4, #T_e1256_row2_col0, #T_e1256_row2_col1, #T_e1256_row2_col2, #T_e1256_row2_col3, #T_e1256_row2_col4 {\n",
       "  text-align: left;\n",
       "  white-space: pre-wrap;\n",
       "  word-wrap: break-word;\n",
       "  max-width: 400px;\n",
       "}\n",
       "</style>\n",
       "<table id=\"T_e1256\">\n",
       "  <thead>\n",
       "    <tr>\n",
       "      <th class=\"blank level0\" >&nbsp;</th>\n",
       "      <th id=\"T_e1256_level0_col0\" class=\"col_heading level0 col0\" >question</th>\n",
       "      <th id=\"T_e1256_level0_col1\" class=\"col_heading level0 col1\" >example_response</th>\n",
       "      <th id=\"T_e1256_level0_col2\" class=\"col_heading level0 col2\" >reasoning</th>\n",
       "      <th id=\"T_e1256_level0_col3\" class=\"col_heading level0 col3\" >pred_response</th>\n",
       "      <th id=\"T_e1256_level0_col4\" class=\"col_heading level0 col4\" >SemanticF1</th>\n",
       "    </tr>\n",
       "  </thead>\n",
       "  <tbody>\n",
       "    <tr>\n",
       "      <th id=\"T_e1256_level0_row0\" class=\"row_heading level0 row0\" >0</th>\n",
       "      <td id=\"T_e1256_row0_col0\" class=\"data row0 col0\" >What factors, including multi-tenancy and operator incentives, contribute to cloud's lower environmental impact?</td>\n",
       "      <td id=\"T_e1256_row0_col1\" class=\"data row0 col1\" >Cloud services generally have a lower environmental impact due to several key factors: 1. **Multi-tenancy**: This concept allows multiple customers to share resources, leading to...</td>\n",
       "      <td id=\"T_e1256_row0_col2\" class=\"data row0 col2\" >The relevant information to answer the above question is not available in the given context.</td>\n",
       "      <td id=\"T_e1256_row0_col3\" class=\"data row0 col3\" >The factors contributing to cloud's lower environmental impact, including multi-tenancy and operator incentives, are not available in the given context.</td>\n",
       "      <td id=\"T_e1256_row0_col4\" class=\"data row0 col4\" ></td>\n",
       "    </tr>\n",
       "    <tr>\n",
       "      <th id=\"T_e1256_level0_row1\" class=\"row_heading level0 row1\" >1</th>\n",
       "      <td id=\"T_e1256_row1_col0\" class=\"data row1 col0\" >Identify how virtualization, power management, and cloud computing reduce energy waste and enhance business operations in server rooms.</td>\n",
       "      <td id=\"T_e1256_row1_col1\" class=\"data row1 col1\" >Virtualization reduces energy waste in server rooms by allowing multiple virtual machines to run on a single physical server, optimizing hardware usage and decreasing the...</td>\n",
       "      <td id=\"T_e1256_row1_col2\" class=\"data row1 col2\" >To answer the question, consider the following: Virtualization: Virtualization involves running multiple virtual machines on a single physical server, allowing for better resource utilization and...</td>\n",
       "      <td id=\"T_e1256_row1_col3\" class=\"data row1 col3\" >Virtualization, power management, and cloud computing can help reduce energy waste and enhance business operations in server rooms by enabling better resource utilization, optimizing energy...</td>\n",
       "      <td id=\"T_e1256_row1_col4\" class=\"data row1 col4\" >✔️ [0.538]</td>\n",
       "    </tr>\n",
       "    <tr>\n",
       "      <th id=\"T_e1256_level0_row2\" class=\"row_heading level0 row2\" >2</th>\n",
       "      <td id=\"T_e1256_row2_col0\" class=\"data row2 col0\" >How do virtualization and cloud computing synergistically enhance server room energy efficiency and utilization rates?</td>\n",
       "      <td id=\"T_e1256_row2_col1\" class=\"data row2 col1\" >Virtualization and cloud computing work together to significantly enhance server room energy efficiency and utilization rates by improving resource allocation and reducing energy consumption. Virtualization...</td>\n",
       "      <td id=\"T_e1256_row2_col2\" class=\"data row2 col2\" >There is no information regarding virtualization and cloud computing synergistically enhance server room energy efficiency and utilization rates.</td>\n",
       "      <td id=\"T_e1256_row2_col3\" class=\"data row2 col3\" >There is no information regarding virtualization and cloud computing synergistically enhance server room energy efficiency and utilization rates.</td>\n",
       "      <td id=\"T_e1256_row2_col4\" class=\"data row2 col4\" ></td>\n",
       "    </tr>\n",
       "  </tbody>\n",
       "</table>\n"
      ],
      "text/plain": [
       "<pandas.io.formats.style.Styler at 0x16db50090>"
      ]
     },
     "metadata": {},
     "output_type": "display_data"
    },
    {
     "data": {
      "text/html": [
       "\n",
       "                <div style='\n",
       "                    text-align: center;\n",
       "                    font-size: 16px;\n",
       "                    font-weight: bold;\n",
       "                    color: #555;\n",
       "                    margin: 10px 0;'>\n",
       "                    ... 7 more rows not displayed ...\n",
       "                </div>\n",
       "                "
      ],
      "text/plain": [
       "<IPython.core.display.HTML object>"
      ]
     },
     "metadata": {},
     "output_type": "display_data"
    },
    {
     "data": {
      "text/plain": [
       "22.28"
      ]
     },
     "execution_count": 15,
     "metadata": {},
     "output_type": "execute_result"
    }
   ],
   "source": [
    "evaluate(CitedRAG())"
   ]
  },
  {
   "cell_type": "code",
   "execution_count": 21,
   "metadata": {},
   "outputs": [
    {
     "name": "stdout",
     "output_type": "stream",
     "text": [
      "('Your input fields are:\\n'\n",
      " '1. `question` (str)\\n'\n",
      " '2. `ground_truth` (str)\\n'\n",
      " '3. `system_response` (str)\\n'\n",
      " '\\n'\n",
      " 'Your output fields are:\\n'\n",
      " '1. `reasoning` (str)\\n'\n",
      " '2. `recall` (float): fraction (out of 1.0) of ground truth covered by the '\n",
      " 'system response\\n'\n",
      " '3. `precision` (float): fraction (out of 1.0) of system response covered by '\n",
      " 'the ground truth\\n'\n",
      " '\\n'\n",
      " 'All interactions will be structured in the following way, with the '\n",
      " 'appropriate values filled in.\\n'\n",
      " '\\n'\n",
      " '[[ ## question ## ]]\\n'\n",
      " '{question}\\n'\n",
      " '\\n'\n",
      " '[[ ## ground_truth ## ]]\\n'\n",
      " '{ground_truth}\\n'\n",
      " '\\n'\n",
      " '[[ ## system_response ## ]]\\n'\n",
      " '{system_response}\\n'\n",
      " '\\n'\n",
      " '[[ ## reasoning ## ]]\\n'\n",
      " '{reasoning}\\n'\n",
      " '\\n'\n",
      " '[[ ## recall ## ]]\\n'\n",
      " '{recall}        # note: the value you produce must be a single float value\\n'\n",
      " '\\n'\n",
      " '[[ ## precision ## ]]\\n'\n",
      " '{precision}        # note: the value you produce must be a single float '\n",
      " 'value\\n'\n",
      " '\\n'\n",
      " '[[ ## completed ## ]]\\n'\n",
      " '\\n'\n",
      " 'In adhering to this structure, your objective is: \\n'\n",
      " \"        Compare a system's response to the ground truth to compute its \"\n",
      " 'recall and precision.\\n'\n",
      " '        If asked to reason, enumerate key ideas in each response, and '\n",
      " 'whether they are present in the other response.\\n'\n",
      " '\\n'\n",
      " '[[ ## question ## ]]\\n'\n",
      " 'What guidelines should be followed for enhancing energy efficiency in data '\n",
      " 'center design and operation?\\n'\n",
      " '\\n'\n",
      " '[[ ## ground_truth ## ]]\\n'\n",
      " 'To enhance energy efficiency in data center design and operation, consider '\n",
      " 'the following guidelines:\\n'\n",
      " '\\n'\n",
      " '1. **Adopt Best Practices**: Refer to the \"Best Practices Guide for '\n",
      " 'Energy-Efficient Data Center Design\" which outlines strategies for IT '\n",
      " 'systems, air management, cooling and electrical systems, on-site generation, '\n",
      " 'and heat recovery.\\n'\n",
      " '\\n'\n",
      " '2. **Utilize ASHRAE Standards**: Follow ASHRAE 90.4-2016, which provides '\n",
      " 'comprehensive energy standards specifically for data centers.\\n'\n",
      " '\\n'\n",
      " '3. **Assess Lifecycle Costs**: Evaluate both first costs and life cycle '\n",
      " 'costs to ensure that designs are not just scaled versions of past solutions '\n",
      " 'but are optimized for energy performance.\\n'\n",
      " '\\n'\n",
      " '4. **Focus on Smaller Spaces**: Recognize that smaller data centers and '\n",
      " 'server rooms also contribute to energy waste and implement energy-saving '\n",
      " 'measures tailored to these environments.\\n'\n",
      " '\\n'\n",
      " '5. **Implement Retrofitting Opportunities**: Explore available retrofit '\n",
      " 'opportunities to upgrade existing systems for better energy efficiency.\\n'\n",
      " '\\n'\n",
      " 'These guidelines can help mitigate inefficiencies and promote sustainable '\n",
      " 'data center operations.\\n'\n",
      " '\\n'\n",
      " '[[ ## system_response ## ]]\\n'\n",
      " 'The following resources provide guidelines for enhancing energy efficiency '\n",
      " 'in data center design and operation:\\n'\n",
      " '- Small Server Rooms, Big Energy Savings: This report provides '\n",
      " 'recommendations for improving energy efficiency in small server rooms, '\n",
      " 'including optimizing cooling systems, upgrading power distribution, and '\n",
      " 'implementing energy management systems. ([1])\\n'\n",
      " '- USER GUIDE FOR IMPLEMENTING ECBC: This guide provides recommendations for '\n",
      " 'achieving energy efficiency in data centers, including optimizing cooling '\n",
      " 'systems, upgrading power distribution, and implementing energy management '\n",
      " 'systems. ([2])\\n'\n",
      " '- DCEE_Actions_Master_List: This list provides a comprehensive set of energy '\n",
      " 'efficiency measures for data centers, including optimizing cooling systems, '\n",
      " 'upgrading power distribution, and implementing energy management systems. '\n",
      " '([9])\\n'\n",
      " '- DCEP Process Manual: This manual provides a step-by-step process for '\n",
      " 'conducting energy assessments in data centers, including identifying '\n",
      " 'energy-saving opportunities and implementing energy efficiency measures. '\n",
      " '([5])\\n'\n",
      " '- Computer Server Selection Guidelines: This document provides guidelines '\n",
      " 'for selecting energy-efficient computer servers, including considerations '\n",
      " 'for processor, memory, and storage requirements. ([25])\\n'\n",
      " '\\n'\n",
      " 'Respond with the corresponding output fields, starting with the field `[[ ## '\n",
      " 'reasoning ## ]]`, then `[[ ## recall ## ]]` (must be formatted as a valid '\n",
      " 'Python float), then `[[ ## precision ## ]]` (must be formatted as a valid '\n",
      " 'Python float), and then ending with the marker for `[[ ## completed ## ]]`.\\n'\n",
      " '\\n'\n",
      " 'BEGIN RESPONSE:')\n"
     ]
    }
   ],
   "source": [
    "from pprint import pprint\n",
    "pprint(lm.history[-1].get('prompt'))"
   ]
  },
  {
   "cell_type": "code",
   "execution_count": null,
   "metadata": {},
   "outputs": [],
   "source": []
  }
 ],
 "metadata": {
  "kernelspec": {
   "display_name": ".venv",
   "language": "python",
   "name": "python3"
  },
  "language_info": {
   "codemirror_mode": {
    "name": "ipython",
    "version": 3
   },
   "file_extension": ".py",
   "mimetype": "text/x-python",
   "name": "python",
   "nbconvert_exporter": "python",
   "pygments_lexer": "ipython3",
   "version": "3.11.3"
  }
 },
 "nbformat": 4,
 "nbformat_minor": 2
}
