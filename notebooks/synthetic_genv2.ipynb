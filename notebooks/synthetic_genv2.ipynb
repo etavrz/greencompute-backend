{
 "cells": [
  {
   "cell_type": "code",
   "execution_count": 10,
   "metadata": {},
   "outputs": [],
   "source": [
    "import pathlib\n",
    "import datetime\n",
    "\n",
    "from typing import List, Optional\n",
    "from langchain_huggingface import HuggingFaceEmbeddings\n",
    "from deepeval.models import DeepEvalBaseEmbeddingModel\n",
    "\n",
    "from greencompute_backend.services.llm.svc import EMBEDDINGS_MODEL"
   ]
  },
  {
   "cell_type": "code",
   "execution_count": 11,
   "metadata": {},
   "outputs": [],
   "source": [
    "class CustomEmbeddingModel(DeepEvalBaseEmbeddingModel):\n",
    "    def __init__(self):\n",
    "        pass\n",
    "\n",
    "    def load_model(self):\n",
    "        return HuggingFaceEmbeddings(\n",
    "\t\t\tmodel_name=EMBEDDINGS_MODEL\n",
    "\t\t)\n",
    "\n",
    "    def embed_text(self, text: str) -> List[float]:\n",
    "        embedding_model = self.load_model()\n",
    "        return embedding_model.embed_query(text)\n",
    "\n",
    "    def embed_texts(self, texts: List[str]) -> List[List[float]]:\n",
    "        embedding_model = self.load_model()\n",
    "        return embedding_model.embed_documents(texts)\n",
    "\n",
    "    async def a_embed_text(self, text: str) -> List[float]:\n",
    "        embedding_model = self.load_model()\n",
    "        return await embedding_model.aembed_query(text)\n",
    "\n",
    "    async def a_embed_texts(self, texts: List[str]) -> List[List[float]]:\n",
    "        embedding_model = self.load_model()\n",
    "        return await embedding_model.aembed_documents(texts)\n",
    "\n",
    "    def get_model_name(self):\n",
    "        \"Custom HugginFace Embeddings Model\""
   ]
  },
  {
   "cell_type": "code",
   "execution_count": 12,
   "metadata": {},
   "outputs": [
    {
     "data": {
      "text/plain": [
       "['../extraction/DCEP Process Manual v3.2 (2-2-2021).txt',\n",
       " '../extraction/Improving Energy Efficiency for Server Rooms and Closets.txt',\n",
       " '../extraction/EE in Small Server Rooms ACEEE_2014.txt',\n",
       " '../extraction/DCEE_Actions_Master_List_090920_final.txt',\n",
       " '../extraction/DOE_LBNL Data Center Energy Assessment Process Manual DOE v3_032222.txt',\n",
       " '../extraction/Computer Server Selection Guidelines 12-22 (4).txt',\n",
       " '../extraction/NRDC_ServerRooms2012.txt',\n",
       " '../extraction/Building the business case for energy efficiency in data centers.txt',\n",
       " '../extraction/SmallServerRooms_Final Report Task 2.13_2013.txt',\n",
       " '../extraction/USER GUIDE FOR IMPLEMENTING ECBC_v9.2_06_May 2021_0.txt',\n",
       " '../extraction/Small Data Centers, Big Energy Savings.txt']"
      ]
     },
     "execution_count": 12,
     "metadata": {},
     "output_type": "execute_result"
    }
   ],
   "source": [
    "data_dir = pathlib.Path(\"../extraction\")\n",
    "data_paths = [p.as_posix() for p in data_dir.glob(\"*.txt\")]\n",
    "data_paths"
   ]
  },
  {
   "cell_type": "code",
   "execution_count": 13,
   "metadata": {},
   "outputs": [
    {
     "data": {
      "text/plain": [
       "['../extraction/Small Data Centers, Big Energy Savings.txt']"
      ]
     },
     "execution_count": 13,
     "metadata": {},
     "output_type": "execute_result"
    }
   ],
   "source": [
    "index_path = data_paths[10:]\n",
    "index_path"
   ]
  },
  {
   "cell_type": "code",
   "execution_count": 14,
   "metadata": {},
   "outputs": [
    {
     "name": "stdout",
     "output_type": "stream",
     "text": [
      "Event loop is already running. Applying nest_asyncio patch to allow async execution...\n"
     ]
    },
    {
     "name": "stderr",
     "output_type": "stream",
     "text": [
      "✨ 🚀 ✨ Loading Documents: 100%|██████████| 1/1 [00:19<00:00, 19.71s/it]\n",
      "✨ 📚 ✨ Chunking Documents: 100%|██████████| 1/1 [00:04<00:00,  4.57s/it]\n",
      "✨ 🧩 ✨ Generating Contexts: 100%|██████████| 9/9 [00:10<00:00,  1.19s/it]\n"
     ]
    },
    {
     "data": {
      "text/html": [
       "<pre style=\"white-space:pre;overflow-x:auto;line-height:normal;font-family:Menlo,'DejaVu Sans Mono',consolas,'Courier New',monospace\">Utilizing <span style=\"color: #008080; text-decoration-color: #008080; font-weight: bold\">3</span> out of <span style=\"color: #008080; text-decoration-color: #008080; font-weight: bold\">15</span> chunks.\n",
       "</pre>\n"
      ],
      "text/plain": [
       "Utilizing \u001b[1;36m3\u001b[0m out of \u001b[1;36m15\u001b[0m chunks.\n"
      ]
     },
     "metadata": {},
     "output_type": "display_data"
    },
    {
     "name": "stderr",
     "output_type": "stream",
     "text": [
      "✨ Generating up to 6 goldens using DeepEval (using gpt-4o-mini, use case=QA, method=docs): 100%|██████████| 6/6 [00:14<00:00,  2.41s/it]\n"
     ]
    },
    {
     "data": {
      "text/html": [
       "<pre style=\"white-space:pre;overflow-x:auto;line-height:normal;font-family:Menlo,'DejaVu Sans Mono',consolas,'Courier New',monospace\"><span style=\"color: #05f58d; text-decoration-color: #05f58d\">✓</span> Generation finished 🎉! You can also run <span style=\"color: #008000; text-decoration-color: #008000\">'deepeval login'</span> to generate and save goldens directly on Confident AI.\n",
       "</pre>\n"
      ],
      "text/plain": [
       "\u001b[38;2;5;245;141m✓\u001b[0m Generation finished 🎉! You can also run \u001b[32m'deepeval login'\u001b[0m to generate and save goldens directly on Confident AI.\n"
      ]
     },
     "metadata": {},
     "output_type": "display_data"
    }
   ],
   "source": [
    "from deepeval.synthesizer import Synthesizer\n",
    "from deepeval.synthesizer import Evolution\n",
    "from dotenv import load_dotenv; load_dotenv()\n",
    "\n",
    "synthesizer = Synthesizer(\n",
    "\tmodel=\"gpt-4o-mini\",\n",
    "    critic_model=\"gpt-4o-mini\",\n",
    "\tembedder=CustomEmbeddingModel(),\n",
    "    async_mode=True\n",
    ")\n",
    "\n",
    "synthesizer.generate_goldens_from_docs(\n",
    "    document_paths=index_path,\n",
    "    scenario=\"Data center operators looking to optimize energy consumption and reduce carbon emissions\",\n",
    "    chunk_size=400,\n",
    "    chunk_overlap=40,\n",
    "    evolutions={Evolution.REASONING: 3/7, Evolution.IN_BREADTH: 2/7, Evolution.MULTICONTEXT: 2/7},\n",
    ")\n",
    "synthesizer.to_pandas().to_csv(f'{datetime.datetime.now().strftime(\"%Y-%m-%d\")}_11_synthetic.csv', index=False)"
   ]
  },
  {
   "cell_type": "code",
   "execution_count": null,
   "metadata": {},
   "outputs": [],
   "source": [
    "synthesizer."
   ]
  },
  {
   "cell_type": "markdown",
   "metadata": {},
   "source": [
    "## Evaluate synthetic data"
   ]
  },
  {
   "cell_type": "code",
   "execution_count": 8,
   "metadata": {},
   "outputs": [],
   "source": [
    "# Load the dataset\n",
    "import pandas as pd\n",
    "import requests\n",
    "df = pd.read_csv('output.csv')\n",
    "records = df.to_dict(orient=\"records\")"
   ]
  },
  {
   "cell_type": "code",
   "execution_count": 9,
   "metadata": {},
   "outputs": [],
   "source": [
    "# Populate each row's actual_output column based on the row's input column\n",
    "for record in records:\n",
    "\tresponse = requests.post(\n",
    "\t\t\"http://localhost:8000/llm/rag\",\n",
    "\t\tjson={\"body\": record[\"input\"]}\n",
    "\t)\n",
    "\trecord[\"actual_output\"] = response.json()[\"body\"]"
   ]
  },
  {
   "cell_type": "code",
   "execution_count": 11,
   "metadata": {},
   "outputs": [],
   "source": [
    "from deepeval.test_case import LLMTestCase\n",
    "\n",
    "test_cases = []\n",
    "for record in records:\n",
    "\ttest_cases.append(\n",
    "\t\tLLMTestCase(\n",
    "\t\t\tinput=record[\"input\"],\n",
    "\t\t\texpected_output=record[\"expected_output\"],\n",
    "\t\t\tactual_output=record[\"actual_output\"]\n",
    "\t\t)\n",
    "\t)"
   ]
  },
  {
   "cell_type": "code",
   "execution_count": 12,
   "metadata": {},
   "outputs": [
    {
     "data": {
      "text/plain": [
       "[LLMTestCase(input='Investigate how elevated RH levels mitigate ESD threats in data center environments.', actual_output=\"The question is not directly addressed in the provided context. However, I can offer some insights on the topic.\\n\\nElevated relative humidity (RH) levels can mitigate electrostatic discharge (ESD) threats in data center environments. ESD occurs when an electrical charge builds up on a surface and is discharged, potentially damaging sensitive electronic equipment. \\n\\nAccording to the American Society of Heating, Refrigerating, and Air-Conditioning Engineers (ASHRAE), maintaining an RH level of 40-55% can help reduce the risk of ESD. This is because higher RH levels increase the conductivity of the air, allowing charges to dissipate more quickly and reducing the likelihood of a discharge.\\n\\nHowever, it's important to note that maintaining the correct RH level is just one aspect of preventing ESD in data centers. Other measures, such as using anti-static mats and wrist straps, can also help reduce the risk of ESD.\\n\\nFor more information on this topic, I would recommend consulting industry standards and guidelines, such as those published by ASHRAE or the Uptime Institute.\", expected_output='Elevated relative humidity (RH) levels, such as 40% RH at the IT equipment intake, help mitigate electrostatic discharge (ESD) threats in data center environments. Maintaining higher humidity reduces the likelihood of ESD, which can damage sensitive electronic components. This is because dry air increases the potential for static electricity buildup. However, maintaining high RH levels can be energy-intensive, especially if electric humidifiers are used. Alternatives to manage ESD include using conductive flooring materials, implementing good cable grounding methods, and providing grounded wrist straps for technicians.', context=None, retrieval_context=None, additional_metadata=None, comments=None, tools_called=None, expected_tools=None, reasoning=None, name=None),\n",
       " LLMTestCase(input='What steps ensure efficient power distribution through balanced loads, PF, and THD management?', actual_output='Answer: Replace Fan Belt Sheaves', expected_output='To ensure efficient power distribution, implement the following steps: \\n\\n1. Maintain balanced loads between phases to reduce waste heat and optimize transformer operation.\\n2. Keep the Total Harmonic Distortion (THD) at the main feeder panel at 5% or less, which is linked to maintaining a high power factor (PF).\\n3. Ensure the power factor at the main feeder panel is 0.90 or higher to avoid high utility tariffs and improve efficiency.\\n4. Retrofit IT equipment to sustain a high power factor and low THD, enhancing the overall performance of the power distribution system.', context=None, retrieval_context=None, additional_metadata=None, comments=None, tools_called=None, expected_tools=None, reasoning=None, name=None),\n",
       " LLMTestCase(input=\"How do airside economizers' service needs compare to CRAC/ACUs energy efficiency measures?\", actual_output='No Answer', expected_output='Airside economizers require regular service for optimal operation, including calibrating outside air temperature sensors, lubricating actuators and linkages, and annual system testing. In contrast, energy efficiency measures for CRAC/ACUs focus on their unique components, such as high-rated efficiency, multi-stage or variable-speed compressors, and efficient heat rejection methods. While airside economizers need consistent maintenance, CRAC/ACUs require implementing specific technologies to enhance energy efficiency.', context=None, retrieval_context=None, additional_metadata=None, comments=None, tools_called=None, expected_tools=None, reasoning=None, name=None),\n",
       " LLMTestCase(input='Analyze the role of multi-stage compressors in optimizing CRAC systems for energy efficiency.', actual_output='The context does not provide information about multi-stage compressors in optimizing CRAC systems for energy efficiency.', expected_output='Multi-stage compressors play a significant role in optimizing CRAC systems for energy efficiency by allowing the cooling system to more closely match the load requirements. By using two or more smaller compressors, the system can adjust its capacity based on the cooling demand, rather than operating at full capacity all the time. This staged approach reduces energy consumption as it prevents unnecessary energy use during periods of lower cooling demand, thereby improving overall efficiency.', context=None, retrieval_context=None, additional_metadata=None, comments=None, tools_called=None, expected_tools=None, reasoning=None, name=None),\n",
       " LLMTestCase(input=\"How do air- and liquid-based cooling systems' methods enhance data center thermal management?\", actual_output=\"This document does not contain information on how air- and liquid-based cooling systems' methods enhance data center thermal management.\", expected_output='Air-based cooling systems enhance data center thermal management by using air to remove heat from IT equipment. Key features include maintaining a high cooling air temperature, separating supply and return air, and optimizing air circulation paths to minimize pressure drops. These systems can also utilize economizing opportunities to improve efficiency.\\n\\nLiquid-based cooling systems bring cooling water directly into contact with IT equipment, which can be more energy-efficient than air cooling. This method allows for effective heat removal and can handle higher heat densities, contributing to enhanced thermal management in data centers.', context=None, retrieval_context=None, additional_metadata=None, comments=None, tools_called=None, expected_tools=None, reasoning=None, name=None),\n",
       " LLMTestCase(input='Compare the roles of maintaining high PF and low THD in avoiding utility tariffs.', actual_output='The context does not provide enough information to answer the question.', expected_output='Maintaining a high Power Factor (PF) and low Total Harmonic Distortion (THD) are crucial in avoiding utility tariffs and ensuring efficient operation of the power distribution system. A high PF (0.90 or higher) indicates efficient utilization of electrical power, reducing the risk of incurring charges from utility providers that penalize low PF values. Similarly, keeping THD at 5% or less minimizes electrical inefficiencies and potential surcharges associated with poor power quality. Both measures are mathematically related and help in reducing energy losses, ensuring compliance with utility requirements, and avoiding additional costs.', context=None, retrieval_context=None, additional_metadata=None, comments=None, tools_called=None, expected_tools=None, reasoning=None, name=None)]"
      ]
     },
     "execution_count": 12,
     "metadata": {},
     "output_type": "execute_result"
    }
   ],
   "source": [
    "test_cases"
   ]
  },
  {
   "cell_type": "code",
   "execution_count": 13,
   "metadata": {},
   "outputs": [],
   "source": [
    "from deepeval import evaluate\n",
    "from deepeval.metrics import HallucinationMetric, AnswerRelevancyMetric\n",
    "from deepeval.dataset import EvaluationDataset\n",
    "\n",
    "eval_dataset = EvaluationDataset(test_cases)"
   ]
  },
  {
   "cell_type": "code",
   "execution_count": 14,
   "metadata": {},
   "outputs": [],
   "source": [
    "from deepeval.metrics import GEval\n",
    "from deepeval.test_case import LLMTestCaseParams\n",
    "\n",
    "correctness_metric = GEval(\n",
    "    name=\"Correctness\",\n",
    "    criteria=\"Determine whether the actual output is factually correct based on the expected output.\",\n",
    "    evaluation_params=[LLMTestCaseParams.INPUT, LLMTestCaseParams.ACTUAL_OUTPUT],\n",
    ")"
   ]
  },
  {
   "cell_type": "code",
   "execution_count": 16,
   "metadata": {},
   "outputs": [
    {
     "data": {
      "text/html": [
       "<pre style=\"white-space:pre;overflow-x:auto;line-height:normal;font-family:Menlo,'DejaVu Sans Mono',consolas,'Courier New',monospace\">✨ You're running DeepEval's latest <span style=\"color: #6a00ff; text-decoration-color: #6a00ff\">Correctness </span><span style=\"color: #6a00ff; text-decoration-color: #6a00ff; font-weight: bold\">(</span><span style=\"color: #6a00ff; text-decoration-color: #6a00ff\">GEval</span><span style=\"color: #6a00ff; text-decoration-color: #6a00ff; font-weight: bold\">)</span><span style=\"color: #6a00ff; text-decoration-color: #6a00ff\"> Metric</span>! <span style=\"color: #374151; text-decoration-color: #374151; font-weight: bold\">(</span><span style=\"color: #374151; text-decoration-color: #374151\">using gpt-4o, </span><span style=\"color: #374151; text-decoration-color: #374151\">strict</span><span style=\"color: #374151; text-decoration-color: #374151\">=</span><span style=\"color: #374151; text-decoration-color: #374151; font-style: italic\">False</span><span style=\"color: #374151; text-decoration-color: #374151\">, </span><span style=\"color: #374151; text-decoration-color: #374151\">async_mode</span><span style=\"color: #374151; text-decoration-color: #374151\">=</span><span style=\"color: #374151; text-decoration-color: #374151; font-style: italic\">True</span><span style=\"color: #374151; text-decoration-color: #374151; font-weight: bold\">)</span><span style=\"color: #374151; text-decoration-color: #374151\">...</span>\n",
       "</pre>\n"
      ],
      "text/plain": [
       "✨ You're running DeepEval's latest \u001b[38;2;106;0;255mCorrectness \u001b[0m\u001b[1;38;2;106;0;255m(\u001b[0m\u001b[38;2;106;0;255mGEval\u001b[0m\u001b[1;38;2;106;0;255m)\u001b[0m\u001b[38;2;106;0;255m Metric\u001b[0m! \u001b[1;38;2;55;65;81m(\u001b[0m\u001b[38;2;55;65;81musing gpt-4o, \u001b[0m\u001b[38;2;55;65;81mstrict\u001b[0m\u001b[38;2;55;65;81m=\u001b[0m\u001b[3;38;2;55;65;81mFalse\u001b[0m\u001b[38;2;55;65;81m, \u001b[0m\u001b[38;2;55;65;81masync_mode\u001b[0m\u001b[38;2;55;65;81m=\u001b[0m\u001b[3;38;2;55;65;81mTrue\u001b[0m\u001b[1;38;2;55;65;81m)\u001b[0m\u001b[38;2;55;65;81m...\u001b[0m\n"
      ]
     },
     "metadata": {},
     "output_type": "display_data"
    },
    {
     "name": "stdout",
     "output_type": "stream",
     "text": [
      "Event loop is already running. Applying nest_asyncio patch to allow async execution...\n"
     ]
    },
    {
     "name": "stderr",
     "output_type": "stream",
     "text": [
      "Evaluating 6 test case(s) in parallel: |██████████|100% (6/6) [Time Taken: 00:03,  1.72test case/s]"
     ]
    },
    {
     "name": "stdout",
     "output_type": "stream",
     "text": [
      "\n",
      "======================================================================\n",
      "\n",
      "Metrics Summary\n",
      "\n",
      "  - ❌ Correctness (GEval) (score: 0.0, threshold: 0.5, strict: False, evaluation model: gpt-4o, reason: The actual output is unrelated to power distribution, load balancing, power factor, or total harmonic distortion management, which are the focus of the input question., error: None)\n",
      "\n",
      "For test case:\n",
      "\n",
      "  - input: What steps ensure efficient power distribution through balanced loads, PF, and THD management?\n",
      "  - actual output: Answer: Replace Fan Belt Sheaves\n",
      "  - expected output: To ensure efficient power distribution, implement the following steps: \n",
      "\n",
      "1. Maintain balanced loads between phases to reduce waste heat and optimize transformer operation.\n",
      "2. Keep the Total Harmonic Distortion (THD) at the main feeder panel at 5% or less, which is linked to maintaining a high power factor (PF).\n",
      "3. Ensure the power factor at the main feeder panel is 0.90 or higher to avoid high utility tariffs and improve efficiency.\n",
      "4. Retrofit IT equipment to sustain a high power factor and low THD, enhancing the overall performance of the power distribution system.\n",
      "  - context: None\n",
      "  - retrieval context: None\n",
      "\n",
      "======================================================================\n",
      "\n",
      "Metrics Summary\n",
      "\n",
      "  - ❌ Correctness (GEval) (score: 0.0, threshold: 0.5, strict: False, evaluation model: gpt-4o, reason: The actual output provides no answer, thus lacking any factual elements or key facts to compare with the expected output on airside economizers and CRAC/ACUs energy efficiency measures., error: None)\n",
      "\n",
      "For test case:\n",
      "\n",
      "  - input: How do airside economizers' service needs compare to CRAC/ACUs energy efficiency measures?\n",
      "  - actual output: No Answer\n",
      "  - expected output: Airside economizers require regular service for optimal operation, including calibrating outside air temperature sensors, lubricating actuators and linkages, and annual system testing. In contrast, energy efficiency measures for CRAC/ACUs focus on their unique components, such as high-rated efficiency, multi-stage or variable-speed compressors, and efficient heat rejection methods. While airside economizers need consistent maintenance, CRAC/ACUs require implementing specific technologies to enhance energy efficiency.\n",
      "  - context: None\n",
      "  - retrieval context: None\n",
      "\n",
      "======================================================================\n",
      "\n",
      "Metrics Summary\n",
      "\n",
      "  - ✅ Correctness (GEval) (score: 0.8485872709800649, threshold: 0.5, strict: False, evaluation model: gpt-4o, reason: The output accurately describes how elevated RH levels mitigate ESD threats by explaining the role of RH levels in ESD prevention and citing ASHRAE guidelines. The mention of additional ESD measures does not detract from consistency but adds context. The main discrepancy is the initial statement about the question not being directly addressed., error: None)\n",
      "\n",
      "For test case:\n",
      "\n",
      "  - input: Investigate how elevated RH levels mitigate ESD threats in data center environments.\n",
      "  - actual output: The question is not directly addressed in the provided context. However, I can offer some insights on the topic.\n",
      "\n",
      "Elevated relative humidity (RH) levels can mitigate electrostatic discharge (ESD) threats in data center environments. ESD occurs when an electrical charge builds up on a surface and is discharged, potentially damaging sensitive electronic equipment. \n",
      "\n",
      "According to the American Society of Heating, Refrigerating, and Air-Conditioning Engineers (ASHRAE), maintaining an RH level of 40-55% can help reduce the risk of ESD. This is because higher RH levels increase the conductivity of the air, allowing charges to dissipate more quickly and reducing the likelihood of a discharge.\n",
      "\n",
      "However, it's important to note that maintaining the correct RH level is just one aspect of preventing ESD in data centers. Other measures, such as using anti-static mats and wrist straps, can also help reduce the risk of ESD.\n",
      "\n",
      "For more information on this topic, I would recommend consulting industry standards and guidelines, such as those published by ASHRAE or the Uptime Institute.\n",
      "  - expected output: Elevated relative humidity (RH) levels, such as 40% RH at the IT equipment intake, help mitigate electrostatic discharge (ESD) threats in data center environments. Maintaining higher humidity reduces the likelihood of ESD, which can damage sensitive electronic components. This is because dry air increases the potential for static electricity buildup. However, maintaining high RH levels can be energy-intensive, especially if electric humidifiers are used. Alternatives to manage ESD include using conductive flooring materials, implementing good cable grounding methods, and providing grounded wrist straps for technicians.\n",
      "  - context: None\n",
      "  - retrieval context: None\n",
      "\n",
      "======================================================================\n",
      "\n",
      "Metrics Summary\n",
      "\n",
      "  - ❌ Correctness (GEval) (score: 0.04429779984377775, threshold: 0.5, strict: False, evaluation model: gpt-4o, reason: The actual output fails to address the comparison of high PF and low THD in avoiding utility tariffs, lacking critical facts and context., error: None)\n",
      "\n",
      "For test case:\n",
      "\n",
      "  - input: Compare the roles of maintaining high PF and low THD in avoiding utility tariffs.\n",
      "  - actual output: The context does not provide enough information to answer the question.\n",
      "  - expected output: Maintaining a high Power Factor (PF) and low Total Harmonic Distortion (THD) are crucial in avoiding utility tariffs and ensuring efficient operation of the power distribution system. A high PF (0.90 or higher) indicates efficient utilization of electrical power, reducing the risk of incurring charges from utility providers that penalize low PF values. Similarly, keeping THD at 5% or less minimizes electrical inefficiencies and potential surcharges associated with poor power quality. Both measures are mathematically related and help in reducing energy losses, ensuring compliance with utility requirements, and avoiding additional costs.\n",
      "  - context: None\n",
      "  - retrieval context: None\n",
      "\n",
      "======================================================================\n",
      "\n",
      "Metrics Summary\n",
      "\n",
      "  - ❌ Correctness (GEval) (score: 0.004208773182630506, threshold: 0.5, strict: False, evaluation model: gpt-4o, reason: The actual output does not provide any information or factual statements about how air- and liquid-based cooling systems enhance data center thermal management, failing all evaluation steps., error: None)\n",
      "\n",
      "For test case:\n",
      "\n",
      "  - input: How do air- and liquid-based cooling systems' methods enhance data center thermal management?\n",
      "  - actual output: This document does not contain information on how air- and liquid-based cooling systems' methods enhance data center thermal management.\n",
      "  - expected output: Air-based cooling systems enhance data center thermal management by using air to remove heat from IT equipment. Key features include maintaining a high cooling air temperature, separating supply and return air, and optimizing air circulation paths to minimize pressure drops. These systems can also utilize economizing opportunities to improve efficiency.\n",
      "\n",
      "Liquid-based cooling systems bring cooling water directly into contact with IT equipment, which can be more energy-efficient than air cooling. This method allows for effective heat removal and can handle higher heat densities, contributing to enhanced thermal management in data centers.\n",
      "  - context: None\n",
      "  - retrieval context: None\n",
      "\n",
      "======================================================================\n",
      "\n",
      "Metrics Summary\n",
      "\n",
      "  - ❌ Correctness (GEval) (score: 0.06440223512079161, threshold: 0.5, strict: False, evaluation model: gpt-4o, reason: The actual output fails to address or provide any factual information about multi-stage compressors in CRAC systems for energy efficiency, missing key facts and overall message alignment., error: None)\n",
      "\n",
      "For test case:\n",
      "\n",
      "  - input: Analyze the role of multi-stage compressors in optimizing CRAC systems for energy efficiency.\n",
      "  - actual output: The context does not provide information about multi-stage compressors in optimizing CRAC systems for energy efficiency.\n",
      "  - expected output: Multi-stage compressors play a significant role in optimizing CRAC systems for energy efficiency by allowing the cooling system to more closely match the load requirements. By using two or more smaller compressors, the system can adjust its capacity based on the cooling demand, rather than operating at full capacity all the time. This staged approach reduces energy consumption as it prevents unnecessary energy use during periods of lower cooling demand, thereby improving overall efficiency.\n",
      "  - context: None\n",
      "  - retrieval context: None\n",
      "\n",
      "======================================================================\n",
      "\n",
      "Overall Metric Pass Rates\n",
      "\n",
      "Correctness (GEval): 16.67% pass rate\n",
      "\n",
      "======================================================================\n",
      "\n"
     ]
    },
    {
     "name": "stderr",
     "output_type": "stream",
     "text": [
      "\n"
     ]
    },
    {
     "data": {
      "text/html": [
       "<pre style=\"white-space:pre;overflow-x:auto;line-height:normal;font-family:Menlo,'DejaVu Sans Mono',consolas,'Courier New',monospace\"><span style=\"color: #05f58d; text-decoration-color: #05f58d\">✓</span> Tests finished 🎉! Run <span style=\"color: #008000; text-decoration-color: #008000\">'deepeval login'</span> to save and analyze evaluation results on Confident AI. \n",
       "‼️  Friendly reminder 😇: You can also run evaluations with ALL of deepeval's metrics directly on Confident AI \n",
       "instead.\n",
       "</pre>\n"
      ],
      "text/plain": [
       "\u001b[38;2;5;245;141m✓\u001b[0m Tests finished 🎉! Run \u001b[32m'deepeval login'\u001b[0m to save and analyze evaluation results on Confident AI. \n",
       "‼️  Friendly reminder 😇: You can also run evaluations with ALL of deepeval's metrics directly on Confident AI \n",
       "instead.\n"
      ]
     },
     "metadata": {},
     "output_type": "display_data"
    }
   ],
   "source": [
    "results = eval_dataset.evaluate([correctness_metric])"
   ]
  },
  {
   "cell_type": "code",
   "execution_count": 18,
   "metadata": {},
   "outputs": [
    {
     "data": {
      "text/plain": [
       "[TestResult(success=False, metrics_data=[MetricData(name='Correctness (GEval)', threshold=0.5, success=False, score=0.0, reason='The actual output is unrelated to power distribution, load balancing, power factor, or total harmonic distortion management, which are the focus of the input question.', strict_mode=False, evaluation_model='gpt-4o', error=None, evaluation_cost=0.00224, verbose_logs='Criteria:\\nDetermine whether the actual output is factually correct based on the expected output. \\n \\nEvaluation Steps:\\n[\\n    \"Compare the actual output with the expected output to ensure factual accuracy.\",\\n    \"Identify any discrepancies between the actual output and the expected facts.\",\\n    \"Verify the sources or references used in the actual output for credibility and correctness.\",\\n    \"Assess whether the actual output logically follows from the input and aligns with the expected factual information.\"\\n]')], conversational=False, multimodal=False, input='What steps ensure efficient power distribution through balanced loads, PF, and THD management?', actual_output='Answer: Replace Fan Belt Sheaves', expected_output='To ensure efficient power distribution, implement the following steps: \\n\\n1. Maintain balanced loads between phases to reduce waste heat and optimize transformer operation.\\n2. Keep the Total Harmonic Distortion (THD) at the main feeder panel at 5% or less, which is linked to maintaining a high power factor (PF).\\n3. Ensure the power factor at the main feeder panel is 0.90 or higher to avoid high utility tariffs and improve efficiency.\\n4. Retrofit IT equipment to sustain a high power factor and low THD, enhancing the overall performance of the power distribution system.', context=None, retrieval_context=None),\n",
       " TestResult(success=False, metrics_data=[MetricData(name='Correctness (GEval)', threshold=0.5, success=False, score=0.0, reason='The actual output provides no answer, thus lacking any factual elements or key facts to compare with the expected output on airside economizers and CRAC/ACUs energy efficiency measures.', strict_mode=False, evaluation_model='gpt-4o', error=None, evaluation_cost=0.002345, verbose_logs='Criteria:\\nDetermine whether the actual output is factually correct based on the expected output. \\n \\nEvaluation Steps:\\n[\\n    \"Compare the factual elements of the actual output with the expected output.\",\\n    \"Identify any discrepancies or inaccuracies in the actual output relative to the expected output.\",\\n    \"Assess whether the actual output contains all key facts present in the expected output.\",\\n    \"Verify the correctness of each fact in the actual output by cross-referencing with the expected output.\"\\n]')], conversational=False, multimodal=False, input=\"How do airside economizers' service needs compare to CRAC/ACUs energy efficiency measures?\", actual_output='No Answer', expected_output='Airside economizers require regular service for optimal operation, including calibrating outside air temperature sensors, lubricating actuators and linkages, and annual system testing. In contrast, energy efficiency measures for CRAC/ACUs focus on their unique components, such as high-rated efficiency, multi-stage or variable-speed compressors, and efficient heat rejection methods. While airside economizers need consistent maintenance, CRAC/ACUs require implementing specific technologies to enhance energy efficiency.', context=None, retrieval_context=None),\n",
       " TestResult(success=True, metrics_data=[MetricData(name='Correctness (GEval)', threshold=0.5, success=True, score=0.8485872709800649, reason='The output accurately describes how elevated RH levels mitigate ESD threats by explaining the role of RH levels in ESD prevention and citing ASHRAE guidelines. The mention of additional ESD measures does not detract from consistency but adds context. The main discrepancy is the initial statement about the question not being directly addressed.', strict_mode=False, evaluation_model='gpt-4o', error=None, evaluation_cost=0.003035, verbose_logs='Criteria:\\nDetermine whether the actual output is factually correct based on the expected output. \\n \\nEvaluation Steps:\\n[\\n    \"Compare the actual output with the expected output for factual consistency.\",\\n    \"Identify any discrepancies between the actual output and the expected output.\",\\n    \"Verify the correctness of facts presented in the actual output against the expected output.\",\\n    \"Assess whether the actual output accurately reflects the information provided in the expected output.\"\\n]')], conversational=False, multimodal=False, input='Investigate how elevated RH levels mitigate ESD threats in data center environments.', actual_output=\"The question is not directly addressed in the provided context. However, I can offer some insights on the topic.\\n\\nElevated relative humidity (RH) levels can mitigate electrostatic discharge (ESD) threats in data center environments. ESD occurs when an electrical charge builds up on a surface and is discharged, potentially damaging sensitive electronic equipment. \\n\\nAccording to the American Society of Heating, Refrigerating, and Air-Conditioning Engineers (ASHRAE), maintaining an RH level of 40-55% can help reduce the risk of ESD. This is because higher RH levels increase the conductivity of the air, allowing charges to dissipate more quickly and reducing the likelihood of a discharge.\\n\\nHowever, it's important to note that maintaining the correct RH level is just one aspect of preventing ESD in data centers. Other measures, such as using anti-static mats and wrist straps, can also help reduce the risk of ESD.\\n\\nFor more information on this topic, I would recommend consulting industry standards and guidelines, such as those published by ASHRAE or the Uptime Institute.\", expected_output='Elevated relative humidity (RH) levels, such as 40% RH at the IT equipment intake, help mitigate electrostatic discharge (ESD) threats in data center environments. Maintaining higher humidity reduces the likelihood of ESD, which can damage sensitive electronic components. This is because dry air increases the potential for static electricity buildup. However, maintaining high RH levels can be energy-intensive, especially if electric humidifiers are used. Alternatives to manage ESD include using conductive flooring materials, implementing good cable grounding methods, and providing grounded wrist straps for technicians.', context=None, retrieval_context=None),\n",
       " TestResult(success=False, metrics_data=[MetricData(name='Correctness (GEval)', threshold=0.5, success=False, score=0.04429779984377775, reason='The actual output fails to address the comparison of high PF and low THD in avoiding utility tariffs, lacking critical facts and context.', strict_mode=False, evaluation_model='gpt-4o', error=None, evaluation_cost=0.0022475000000000004, verbose_logs='Criteria:\\nDetermine whether the actual output is factually correct based on the expected output. \\n \\nEvaluation Steps:\\n[\\n    \"Compare the actual output to the expected output to identify factual discrepancies.\",\\n    \"Verify if the actual output contains all critical facts present in the expected output.\",\\n    \"Assess the accuracy of any additional information in the actual output not present in the expected output.\",\\n    \"Determine if the actual output aligns logically and contextually with the expected output.\"\\n]')], conversational=False, multimodal=False, input='Compare the roles of maintaining high PF and low THD in avoiding utility tariffs.', actual_output='The context does not provide enough information to answer the question.', expected_output='Maintaining a high Power Factor (PF) and low Total Harmonic Distortion (THD) are crucial in avoiding utility tariffs and ensuring efficient operation of the power distribution system. A high PF (0.90 or higher) indicates efficient utilization of electrical power, reducing the risk of incurring charges from utility providers that penalize low PF values. Similarly, keeping THD at 5% or less minimizes electrical inefficiencies and potential surcharges associated with poor power quality. Both measures are mathematically related and help in reducing energy losses, ensuring compliance with utility requirements, and avoiding additional costs.', context=None, retrieval_context=None),\n",
       " TestResult(success=False, metrics_data=[MetricData(name='Correctness (GEval)', threshold=0.5, success=False, score=0.004208773182630506, reason='The actual output does not provide any information or factual statements about how air- and liquid-based cooling systems enhance data center thermal management, failing all evaluation steps.', strict_mode=False, evaluation_model='gpt-4o', error=None, evaluation_cost=0.00234, verbose_logs='Criteria:\\nDetermine whether the actual output is factually correct based on the expected output. \\n \\nEvaluation Steps:\\n[\\n    \"Compare the factual statements in the actual output with the expected output.\",\\n    \"Identify any discrepancies or inaccuracies between the actual output and the expected output.\",\\n    \"Ensure that all critical factual elements present in the expected output are accurately represented in the actual output.\",\\n    \"Evaluate the overall factual integrity of the actual output in relation to the expected output.\"\\n]')], conversational=False, multimodal=False, input=\"How do air- and liquid-based cooling systems' methods enhance data center thermal management?\", actual_output=\"This document does not contain information on how air- and liquid-based cooling systems' methods enhance data center thermal management.\", expected_output='Air-based cooling systems enhance data center thermal management by using air to remove heat from IT equipment. Key features include maintaining a high cooling air temperature, separating supply and return air, and optimizing air circulation paths to minimize pressure drops. These systems can also utilize economizing opportunities to improve efficiency.\\n\\nLiquid-based cooling systems bring cooling water directly into contact with IT equipment, which can be more energy-efficient than air cooling. This method allows for effective heat removal and can handle higher heat densities, contributing to enhanced thermal management in data centers.', context=None, retrieval_context=None),\n",
       " TestResult(success=False, metrics_data=[MetricData(name='Correctness (GEval)', threshold=0.5, success=False, score=0.06440223512079161, reason='The actual output fails to address or provide any factual information about multi-stage compressors in CRAC systems for energy efficiency, missing key facts and overall message alignment.', strict_mode=False, evaluation_model='gpt-4o', error=None, evaluation_cost=0.0025775, verbose_logs='Criteria:\\nDetermine whether the actual output is factually correct based on the expected output. \\n \\nEvaluation Steps:\\n[\\n    \"Compare the actual output to the expected output to identify any discrepancies in factual information.\",\\n    \"Verify that the key facts and data points in the actual output match those in the expected output.\",\\n    \"Check for the presence of any additional information in the actual output that may alter the factual accuracy when compared to the expected output.\",\\n    \"Assess whether the overall message or conclusion in the actual output aligns with the expected output in terms of factual correctness.\"\\n]')], conversational=False, multimodal=False, input='Analyze the role of multi-stage compressors in optimizing CRAC systems for energy efficiency.', actual_output='The context does not provide information about multi-stage compressors in optimizing CRAC systems for energy efficiency.', expected_output='Multi-stage compressors play a significant role in optimizing CRAC systems for energy efficiency by allowing the cooling system to more closely match the load requirements. By using two or more smaller compressors, the system can adjust its capacity based on the cooling demand, rather than operating at full capacity all the time. This staged approach reduces energy consumption as it prevents unnecessary energy use during periods of lower cooling demand, thereby improving overall efficiency.', context=None, retrieval_context=None)]"
      ]
     },
     "execution_count": 18,
     "metadata": {},
     "output_type": "execute_result"
    }
   ],
   "source": [
    "results.test_results"
   ]
  }
 ],
 "metadata": {
  "kernelspec": {
   "display_name": ".venv",
   "language": "python",
   "name": "python3"
  },
  "language_info": {
   "codemirror_mode": {
    "name": "ipython",
    "version": 3
   },
   "file_extension": ".py",
   "mimetype": "text/x-python",
   "name": "python",
   "nbconvert_exporter": "python",
   "pygments_lexer": "ipython3",
   "version": "3.11.3"
  }
 },
 "nbformat": 4,
 "nbformat_minor": 2
}
