{
 "cells": [
  {
   "cell_type": "markdown",
   "metadata": {},
   "source": [
    "# Prompt Optimization"
   ]
  },
  {
   "cell_type": "code",
   "execution_count": 37,
   "metadata": {},
   "outputs": [],
   "source": [
    "import os\n",
    "import json\n",
    "\n",
    "\n",
    "import requests\n",
    "import boto3\n",
    "import pandas as pd\n",
    "import os\n",
    "import dspy\n",
    "from dspy.evaluate import SemanticF1"
   ]
  },
  {
   "cell_type": "code",
   "execution_count": 28,
   "metadata": {},
   "outputs": [
    {
     "name": "stdout",
     "output_type": "stream",
     "text": [
      "<class 'pandas.core.frame.DataFrame'>\n",
      "RangeIndex: 66 entries, 0 to 65\n",
      "Data columns (total 11 columns):\n",
      " #   Column                   Non-Null Count  Dtype  \n",
      "---  ------                   --------------  -----  \n",
      " 0   input                    66 non-null     object \n",
      " 1   actual_output            0 non-null      float64\n",
      " 2   expected_output          66 non-null     object \n",
      " 3   context                  66 non-null     object \n",
      " 4   retrieval_context        0 non-null      float64\n",
      " 5   n_chunks_per_context     66 non-null     int64  \n",
      " 6   context_length           66 non-null     int64  \n",
      " 7   evolutions               66 non-null     object \n",
      " 8   context_quality          66 non-null     float64\n",
      " 9   synthetic_input_quality  66 non-null     float64\n",
      " 10  source_file              66 non-null     object \n",
      "dtypes: float64(4), int64(2), object(5)\n",
      "memory usage: 5.8+ KB\n"
     ]
    }
   ],
   "source": [
    "# Read in synthetic datset\n",
    "dataset = pd.read_excel(\"synthetics/synthetic_dataset.xlsx\")\n",
    "dataset.info()"
   ]
  },
  {
   "cell_type": "code",
   "execution_count": 29,
   "metadata": {},
   "outputs": [
    {
     "data": {
      "text/plain": [
       "[Example({'context': \"[' Report. The Assessment Report is submitted to the Site Lead. The DCEP revises the draft to the satisfaction of the Site Lead. The result is the final Assessment Report.\\\\n\\\\nStep 9: Compilation of Assessment and Attendance Reports\\\\n\\\\nCompilation of Assessment Report (see Appendices B-H for templates)\\\\n\\\\nThe Assessment Report should be a brief narrative summary of the energy assessment. The Report should contain the following elements.\\\\n\\\\n## Executive Summary\\\\n\\\\nThe executive summary should include key observations, opportunities, and estimated energy savings.\\\\n\\\\n## DCEP Program Objective and Approach\\\\n\\\\nBrief description of the Program objective and approach\\\\n\\\\n- The objective of the Program is to provide the data center industry with technical assistance targeted to reduce energy expenditures in data centers\\\\n- The approach is for the DCEP to facilitate the completion of an energy assessment as well as provide training in the DOE Software Tools and energy management.\\\\n\\\\n## General information (see Appendix B)\\\\n\\\\nGeneral information includes the following:\\\\n\\\\n- Data center owner\\\\n- Facility name\\\\n- Assessment dates\\\\n- DCEP name\\\\n- Data center contact with name, address, phone number, and email address.\\\\n\\\\n## Target Systems List (see Appendix E)\\\\n\\\\nThe data center systems targeted for the Assessment (Step 3). See Appendix E for a template.\\\\n\\\\nSite Description Survey (see Appendix C)\\\\n\\\\nThe survey identifies the general characteristics of the data center (Step 4).\\\\n\\\\n## Energy Management Practices Survey (see Appendix D)\\\\n\\\\nThe survey provides a picture of the current energy management practices (Step 4).\\\\n\\\\n15\\\\n\\\\n\\\\n## Summary Energy Savings (see Appendix F)\\\\n\\\\nA summary of the energy savings opportunities should be provided for each Primary System. See Appendix F for a template. For each Primary System, provide the following information:\\\\n\\\\n- Estimate impact ($/year and kWh/year)\\\\n- Estimate']\", 'question': 'How do the key elements of the Assessment Report for data centers compare to those of other reports in energy management?', 'answer': \"The key elements of the Assessment Report for data centers are specifically tailored to address the unique challenges and opportunities within the data center industry. Unlike other energy management reports, the Assessment Report includes detailed sections such as an Executive Summary focusing on energy savings, a specific Program objective aimed at reducing energy expenditures, and comprehensive surveys that assess both the facility's general characteristics and current energy management practices. Furthermore, it emphasizes collaboration with the DCEP to provide targeted technical assistance and training, which may not be as pronounced in other energy management reports. Overall, the Assessment Report is structured to deliver actionable insights specifically for data centers, making it distinct from broader energy management reports.\"}) (input_keys={'context', 'input'}),\n",
       " Example({'context': \"['; or it could be in the form of a fan coil or CRAC/H with air-side economizer capability. Depending on the climate zone in which the server closet is located, this strategy can save a significant amount of energy by reducing compressor cooling energy use.\\\\n\\\\n14 Install dedicated cooling for the room, rather than depending on building cooling\\\\n\\\\nInstall cooling equipment solely for the use of the room, SO that the building system does not have to operate around the clock. If a retrofit is in order, installing dedicated cooling equipment (like a packaged air conditioning unit) for your server room(s) can result in significant energy savings. Specify a high-efficiency unit with a high SEER rating.\\\\n\\\\nFact sheet developed by: Mark Bramfitt, Rich Brown, Hoi Ying (Iris) Cheung, Pierre Delforge, Joyce Dickerson, Steve Greenberg, Rod Mahdavi, and William Tschudi\\\\n\\\\nEnergy Star:\\\\n\\\\n\\\\nhttp://www.energystar.gov/index.cfm?fuseaction=find a roduct.showProductGroup&pgw code=DO Climate Savers Computing Initiative Server Catalog: http://www.climatesaverscomputing.org/csci-certification-output/product-catalog\\\\n\\\\n\\\\n\\\\nFor information on how to implement each of these actions, refer to:\\\\n http://hightech.lbl.gov/documents/data_centers/fact-sheet-ee-server-rooms.pdf\\\\n\\\\n\\\\nOr, contact:\\\\n\\\\n\\\\nRichard Brown\\\\n REBrown@lbl.gov\\\\n 510-486-5896\\\\n\\\\n\\\\nWilliam Tschudi\\\\n WFTschudi@lbl.gov\\\\n 510-495-2417\\\\n\\\\n\\\\nPierre Delforge\\\\n pdelforge@nrdc.org\\\\n 415-875-6139\\\\n']\", 'question': 'Examine the role of bespoke cooling solutions in optimizing energy efficiency for server environments.', 'answer': \"Bespoke cooling solutions play a crucial role in optimizing energy efficiency for server environments by providing dedicated cooling tailored to the specific needs of the server room. This approach reduces reliance on the building's cooling system, allowing for significant energy savings, particularly in climates where compressor cooling can be minimized. Installing high-efficiency units with a high SEER rating ensures improved performance and efficiency, further enhancing energy conservation. For more detailed strategies on implementing these solutions, resources are available through the provided links and contacts.\"}) (input_keys={'context', 'input'}),\n",
       " Example({'context': \"[' template can easily be filled in\\\\nefficiency-assessment-report\\\\twith actual site data.\\\\n\\\\n\\\\n\\\\n6\\\\n\\\\n\\\\n## 2 PROCESS FOR DOE ENERGY ASSESSMENTS\\\\nTable 2 provides an overview of the ten assessment process steps outlined in this document as well as listing available resources. The process is broken down into four phases: Assessment Initiation (faint red), Pre-Onsite Preparation (faint blue), Onsite Activities (faint green), and Post-Onsite Activities (faint orange). The text sections following the table provide details on each of these process steps.\\\\nTable 2 is written for a third-party DCEP assessor. For an in-house DCEP assessor, the difference between on-site and off-site becomes moot.\\\\n\\\\n7\\\\n\\\\n\\\\n# Table 2: Overview of Process Steps\\\\n\\\\n\\\\n\\\\n#\\\\tProcess Step Description\\\\tAvailable Resources\\\\n1\\\\tPhase 1: Assessment Initiation\\\\nIntroduce the DOE Assessment Process. Identify\\\\npreliminary goals, scope, onsite activities, and key\\\\npersonnel. Arrange for onsite logistics.\\\\n2\\\\tPreliminary assessment by Site Lead using DC Pro or\\\\t* DC Pro Tool(s) and Manuals\\\\nthe PUE Estimator.\\\\n3\\\\tPhase 2: Pre-Onsite Preparation\\\\t* DC Pro Tool(s) results\\\\nKick-off conference call\\\\t* Target System List (App. E)\\\\n- Review scope, onsite activities, team, and logistics\\\\t* System Tool(s) and Manuals\\\\n- Identify target systems, tools, and data to collect\\\\n- Identify safety issues.\\\\n4\\\\tOff-site compilation of information\\\\t* Assessment Worksheets\\\\n- Collect technical info from drawings, logs, etc.\\\\t* Site Survey (App. C)\\\\n- Collect Site Description Survey\\\\t* Practices Survey (App. D)\\\\n- Collect Energy Management Practices']\", 'question': 'Outline the essential phases in the DOE Energy Assessment process and their respective activities.', 'answer': 'The DOE Energy Assessment process is divided into four essential phases, each with specific activities:\\n\\n1. **Assessment Initiation**: Introduce the DOE Assessment Process, identify preliminary goals and scope, and arrange onsite logistics.\\n\\n2. **Pre-Onsite Preparation**: Conduct a kick-off conference call to review the scope, activities, and logistics. Identify target systems and safety issues, and compile technical information from relevant documents.\\n\\n3. **Onsite Activities**: (Details not specified in the context provided, but typically involve direct assessments and data collection at the site.)\\n\\n4. **Post-Onsite Activities**: (Details not specified in the context provided, but usually involve analyzing collected data and preparing reports.)\\n\\nEach phase ensures a structured approach to energy assessments, facilitating effective planning and execution.'}) (input_keys={'context', 'input'}),\n",
       " Example({'context': '[\"\\\\n\\\\nENVIRONMENTAL ENERGY TECHNOLOGIES DIVISION\\\\n\\\\nOctober 2012\\\\n\\\\n# Improving Energy Efficiency for Server Rooms and Closets\\\\n\\\\nTop\\\\n\\\\n\\\\n\\\\nMeasures to Save Energy in Your Server Room or Closet\\\\n\\\\n## Introduction\\\\n\\\\nIs there a ghost in your IT closet? If your building has one or more IT rooms or closets containing between 5 and 50 servers, chances are that they account for a significant share of the building\\'s energy use (in some cases, over half!). Servers, data storage arrays, networking equipment, and the cooling and power conditioning that support them tend to draw large amounts of energy 24/7, in many cases using more energy annually than traditional building loads such as HVAC and lighting.\\\\n\\\\nThe good news is that there are many cost-effective actions, ranging from simple to advanced, that can dramatically reduce that energy use, helping you to save money and reduce pollution.\\\\n\\\\n1\\\\n\\\\n\\\\n\\\\n## A. Simplest, No-Cost, Or Very-Low-Cost Measures\\\\n\\\\n\\\\n\\\\nDetermine computational functions/Turn off any unused servers\\\\n\\\\nAn Uptime Institute survey suggests that close to 30% of servers in data centers are consuming power but not doing any useful work. To better manage server usage and utilization, create and regularly update a server hardware and application inventory that will help you track the number of applications running on each server. Mapping applications to the physical servers on which they are running helps identify unused servers and opportunities for consolidation. Just make sure to migrate any remaining data or workloads before shutting down.\\\\n\\\\n\\\\n\\\\n2 Increase temperature setpoints to the high end of ASHRAE\\'s recommended limit ASHRAE temperature guidelines allow much broader operating ranges than those commonly used, allowing the air temperature at the IT equipment inlet to be raised-up to 80¬∞F or higher-which considerably reduces cooling energy usage.\\\\n\\\\n\"]', 'question': 'What cost-effective strategies can be implemented to enhance energy efficiency in server rooms?', 'answer': \"To enhance energy efficiency in server rooms, consider implementing the following cost-effective strategies:\\n\\n1. **Turn Off Unused Servers**: An estimated 30% of servers in data centers consume power without performing useful work. Regularly update a server inventory to track applications and identify unused servers for shutdown or consolidation.\\n\\n2. **Increase Temperature Setpoints**: Raise the air temperature at the IT equipment inlet to the high end of ASHRAE's recommended limit (up to 80¬∞F or higher). This adjustment can significantly reduce cooling energy usage. \\n\\nThese measures can help lower energy consumption and reduce costs effectively.\"}) (input_keys={'context', 'input'}),\n",
       " Example({'context': '[\\' for each Primary System. See Appendix F for a template. For each Primary System, provide the following information:\\\\n\\\\n- Estimate impact ($/year and kWh/year)\\\\n- Estimate cost for implementation\\\\n- Calculate simple payback (years).\\\\n\\\\n## Detailed Energy Savings (see Appendix G)\\\\n\\\\nDetail the energy savings opportunities in the Detailed Energy Savings Table. See Appendix G for a template. Use one table for each Primary System: IT Equipment, HVAC Systems, and Electrical Systems. For each opportunity, provide the following information:\\\\n\\\\n- Brief description\\\\n- Estimate impact ($/year and kWh/year)\\\\n- Estimate cost for implementation\\\\n- Calculate simple payback (years)\\\\n- Identify the time horizon for completion:\\\\nNear-term (\"N\") opportunities include improvements in operating practices, maintenance of equipment, relatively low-cost actions, or low-cost equipment purchases. Completion of the opportunity can be attained in less than one year.\\\\nMedium-term (\"M\") opportunities would require purchase of additional equipment and/or changes in the system. It would be necessary to carry out further engineering and economic analysis. Completion of the opportunity could be attained in the one- to two-year timeframe.\\\\nLong-term (\"L\") opportunities would require testing of a new technology and confirmation of performance of the technology with economic justification to meet corporate investment criteria. Completion of the opportunity could be attained in the two- to five-year timeframe.\\\\n\\\\n## Identified Actions (see Appendix H)\\\\n\\\\nAfter the detailed energy savings, list actions required for implementing each opportunity. See Appendix H for a template. The Master list of Energy Efficiency Actions compiled by LBNL provides a comprehensive listing of actions (recommendations), see https://datacenters.lbl.gov/resources/data-center-master-list-energy\\\\n\\\\n## Roadmap\\\\n\\\\nThe roadmap (action plan\\']', 'question': 'What specific data is required for each Primary System to estimate energy savings, including impact, cost, payback, and completion timeframe?', 'answer': 'To estimate energy savings for each Primary System, the following specific data is required:\\n\\n1. **Estimate Impact**:\\n   - Annual financial impact ($/year)\\n   - Annual energy impact (kWh/year)\\n\\n2. **Estimate Cost for Implementation**:\\n   - Total cost associated with implementing energy-saving measures.\\n\\n3. **Calculate Simple Payback**:\\n   - Time in years for the cost to be recovered through energy savings.\\n\\n4. **Time Horizon for Completion**:\\n   - Identify whether the opportunity is Near-term (\"N\"), Medium-term (\"M\"), or Long-term (\"L\") based on the complexity and investment required.\\n\\nThis information is essential for creating a detailed energy savings table for each Primary System: IT Equipment, HVAC Systems, and Electrical Systems.'}) (input_keys={'context', 'input'})]"
      ]
     },
     "execution_count": 29,
     "metadata": {},
     "output_type": "execute_result"
    }
   ],
   "source": [
    "# create the dspy dataset\n",
    "dataset_dict = dataset.to_dict(orient='records')\n",
    "dspy_dataset = []\n",
    "\n",
    "for row in dataset_dict:\n",
    "\tdspy_dataset.append(dspy.Example(context=row['context'], question=row['input'], answer=row['expected_output']).with_inputs('input', 'context'))\n",
    "\n",
    "dspy_dataset[:5]"
   ]
  },
  {
   "cell_type": "code",
   "execution_count": 30,
   "metadata": {},
   "outputs": [],
   "source": [
    "# Create the evaluation object\n",
    "trainset, valset, devset, testset = dspy_dataset[:10], dspy_dataset[10:20], dspy_dataset[20:30], dspy_dataset[30:40]\n",
    "\n",
    "metric = SemanticF1()\n",
    "evaluate = dspy.Evaluate(devset=devset, metric=metric, num_threads=24, display_progress=True, display_table=3)"
   ]
  },
  {
   "cell_type": "markdown",
   "metadata": {},
   "source": [
    "## Compose DSPy Custom RAG Framework"
   ]
  },
  {
   "cell_type": "code",
   "execution_count": 31,
   "metadata": {},
   "outputs": [],
   "source": [
    "class TitanLM(dspy.LM):\n",
    "    def __init__(self, model: str, client, temperature: float = 0.7, **kwargs):\n",
    "        self.client = client\n",
    "        self.history = []\n",
    "        self.temperature = temperature\n",
    "\n",
    "        super().__init__(model, **kwargs)\n",
    "        self.model = model\n",
    "    \n",
    "    def _format_message(self, prompt: str):\n",
    "        body = json.dumps(\n",
    "            {\n",
    "                \"inputText\": prompt,\n",
    "                \"textGenerationConfig\": {\n",
    "                    \"maxTokenCount\": 512,\n",
    "                    \"stopSequences\": [],\n",
    "                    \"temperature\": self.temperature,\n",
    "                    \"topP\": 0.9,\n",
    "                },\n",
    "            }\n",
    "        )\n",
    "        return body\n",
    "\n",
    "    def generate_content(self, prompt: str) -> str:\n",
    "        body = self._format_message(prompt)\n",
    "        response = self.client.invoke_model(\n",
    "            body=body,\n",
    "            modelId=self.model,\n",
    "            accept=\"application/json\",\n",
    "            contentType=\"application/json\",\n",
    "        )\n",
    "        response_body = json.loads(response.get(\"body\").read())\n",
    "        return response_body.get(\"results\")\n",
    "\n",
    "    def __call__(self, prompt=None, messages=None, **kwargs):\n",
    "        # Custom chat model working for text completion model\n",
    "        prompt = '\\n\\n'.join([x['content'] for x in messages] + ['BEGIN RESPONSE:'])\n",
    "\n",
    "        completions = self.generate_content(prompt)\n",
    "        self.history.append({\"prompt\": prompt, \"completions\": completions})\n",
    "\n",
    "        # Must return a list of strings\n",
    "        return [completions[0].get(\"outputText\")]\n",
    "\n",
    "    def inspect_history(self):\n",
    "        for interaction in self.history:\n",
    "            print(f\"Prompt: {interaction['prompt']} -> Completions: {interaction['completions']}\")"
   ]
  },
  {
   "cell_type": "code",
   "execution_count": 32,
   "metadata": {},
   "outputs": [
    {
     "data": {
      "text/plain": [
       "Prediction(\n",
       "    reasoning='Paris is the capital of France.',\n",
       "    answer='Paris'\n",
       ")"
      ]
     },
     "execution_count": 32,
     "metadata": {},
     "output_type": "execute_result"
    }
   ],
   "source": [
    "lm = TitanLM(\"amazon.titan-text-premier-v1:0\", client=boto3.client(\"bedrock-runtime\"))\n",
    "dspy.configure(lm=lm)\n",
    "\n",
    "qa = dspy.ChainOfThought(\"question->answer\")\n",
    "qa(question=\"What is the capital of France?\")"
   ]
  },
  {
   "cell_type": "code",
   "execution_count": 38,
   "metadata": {},
   "outputs": [],
   "source": [
    "def search(query: str, top_k: int):\n",
    "\n",
    "    url = \"http://greencompute-1575332443.us-east-1.elb.amazonaws.com/api/llm/retrieval\"\n",
    "    headers = {\n",
    "        \"accept\": \"application/json\",\n",
    "        \"Content-Type\": \"application/json\"\n",
    "    }\n",
    "    data = {\n",
    "        \"query\": query,\n",
    "        \"top_k\": top_k\n",
    "    }\n",
    "\n",
    "    response = requests.post(url, headers=headers, json=data)\n",
    "\n",
    "    print(response.status_code)\n",
    "    print(response.json())\n"
   ]
  },
  {
   "cell_type": "code",
   "execution_count": 39,
   "metadata": {},
   "outputs": [
    {
     "name": "stdout",
     "output_type": "stream",
     "text": [
      "200\n",
      "{'documents': [{'doc_title': 'SmallServerRooms_Final Report Task 2.13_2013', 'content': '# LEGAL NOTICE\\n\\nThe Lawrence Berkeley National Laboratory, a laboratory owned by DOE, is located at 1 Cyclotron Rd., Berkeley, California is a national laboratory of the DOE managed by Regents of the University of California for the U.S. Department of Energy under Contract Number DE- AC02-05CH11231. This report was prepared as an account of work sponsored by the Sponsor and pursuant to an M&O Contract with the United States Department of Energy (DOE). Neither Regents of the University of California, nor the DOE, nor the Sponsor, nor any of their employees, contractors, or subcontractors, makes any warranty, express or implied, or assumes any legal liability or responsibility for the accuracy, completeness, or usefulness of any information, apparatus, product, or process disclosed, or represents that its use would not infringe on privately owned rights. Reference herein to any specific commercial product, process, or service by trade name, trademark, manufacturer, or otherwise, does not necessarily constitute or imply its endorsement, recommendation, or favoring by Regents of the University of California, or the DOE, or the Sponsor. The views and opinions of authors expressed herein do not necessarily state or reflect those of Regents of the University of California, the DOE, or the Sponsor, or any of their employees, or the Government, or any agency thereof, or the State of California. This report has not been approved or disapproved by Regents of the University of California, the DOE, or the Sponsor, nor has Regents of the University of California, the DOE, or the Sponsor passed upon the accuracy or adequacy of the information in this report.\\n\\ni\\n\\n\\n# DISCLAIMER'}, {'doc_title': 'USER GUIDE FOR IMPLEMENTING ECBC_v9.2_06_May 2021_0', 'content': 'Chillers designed for operation at different temperatures should also be rated at BEE Schedule 21 and IS 16590 conditions to show ECBC compliance.'}, {'doc_title': 'DCEP Process Manual v3.2 (2-2-2021)', 'content': 'ERNEST RLANDO LAWRENCE BERKELEY NATIONAL LABORATORY\\n\\n# DCEP Program Energy Training-Assessment Process Manual\\n\\nVersion 3.2 (February 2, 2021)\\n\\nThis manual was developed jointly by Lawrence Berkeley National Laboratory (LBNL) and ANCIS Incorporated for the U.S. Department of Energy (DOE)\\n\\n\\n\\nINCORPORATED\\n\\nwww.ancis.us\\n\\n1\\n\\n\\n## DISCLAIMER'}, {'doc_title': 'USER GUIDE FOR IMPLEMENTING ECBC_v9.2_06_May 2021_0', 'content': 'IEC 62040-3 defines three modes of operation for UPS Systems, namely:\\nDouble Conversion Topology: An online mode of operation where the load is continuously supplied via two power conversions, first in the rectifier (AC to DC), then in the inverter (DC to AC), irrespective of the condition of the input power being supplied. This mode provides VFI (voltage and frequency independent) performance classified as Dynamic output performance Class 1, i.e., independent of supply (mains) voltage and frequency variations while protecting the load against adverse effects from such variations without depleting the stored energy. When the AC input supply is out of UPS preset tolerances, the UPS enters the stored energy mode of operation where the battery/inverter combination continues to support the load for the duration of the stored capacity or until the AC input returns to UPS setpoint tolerances, whichever is sooner.'}, {'doc_title': 'USER GUIDE FOR IMPLEMENTING ECBC_v9.2_06_May 2021_0', 'content': 'Line-Interactive Topology: An online mode of operation, meaning load is supplied with conditioned power via a parallel connection of the AC input and the UPS inverter. The inverter or the power interface is operating to provide output voltage conditioning and/or battery charging. The output frequency is dependent upon the AC input frequency providing VI (voltage independent) performance classified as Dynamic output performance Class 2. When the AC input supply voltage or frequency is out of UPS preset tolerances, the inverter and battery maintain continuity of power via the stored energy mode of operation. The unit runs in stored energy mode for the duration of the stored capacity or until the AC input supply returns within the UPS design tolerances, whichever is sooner. The inverter may be of bidirectional design or alternatively, the inverter may be unidirectional, and a separate energy storage charger is incorporated. The VI mode can provide high efficiency up to 99% and a few UPS manufacturers can even achieve output power quality of Class 1 as defined by IEC62040-3. While operating in this mode as shown in Figure 17 the inverter of the UPS also regulates the load power factor and harmonics to achieve UPS input current similar to the double conversion mode.'}]}\n"
     ]
    }
   ],
   "source": [
    "search(\"Increase data center efficiency\", 5)"
   ]
  },
  {
   "cell_type": "code",
   "execution_count": 34,
   "metadata": {},
   "outputs": [],
   "source": [
    "class RAG(dspy.Module):\n",
    "    def __init__(self, num_docs=5):\n",
    "        self.num_docs = num_docs\n",
    "        self.respond = dspy.ChainOfThought('context, question -> response')\n",
    "\n",
    "    def forward(self, question):\n",
    "        context = search(question, k=self.num_docs)\n",
    "        return self.respond(context=context, question=question)"
   ]
  },
  {
   "cell_type": "markdown",
   "metadata": {},
   "source": [
    "## Conduct Optimization"
   ]
  },
  {
   "cell_type": "code",
   "execution_count": null,
   "metadata": {},
   "outputs": [],
   "source": []
  },
  {
   "cell_type": "markdown",
   "metadata": {},
   "source": []
  }
 ],
 "metadata": {
  "kernelspec": {
   "display_name": ".venv",
   "language": "python",
   "name": "python3"
  },
  "language_info": {
   "codemirror_mode": {
    "name": "ipython",
    "version": 3
   },
   "file_extension": ".py",
   "mimetype": "text/x-python",
   "name": "python",
   "nbconvert_exporter": "python",
   "pygments_lexer": "ipython3",
   "version": "3.11.3"
  }
 },
 "nbformat": 4,
 "nbformat_minor": 2
}
